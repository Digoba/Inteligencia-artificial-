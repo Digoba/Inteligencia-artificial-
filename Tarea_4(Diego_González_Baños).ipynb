{
 "cells": [
  {
   "cell_type": "markdown",
   "metadata": {
    "id": "l1cBM4ChY9qV",
    "pycharm": {
     "name": "#%% md\n"
    }
   },
   "source": [
    "<font size=4 color='cornflowerblue'>\n",
    "\n",
    "# Tarea 4\n",
    "\n",
    "<font color = 'pink'>\n",
    "Diego González Baños\n",
    "\n",
    "### Implementar una red neuronal de convolución usando el conjunto de datos mnist.\n",
    "\n"
   ]
  },
  {
   "cell_type": "code",
   "execution_count": 1,
   "metadata": {
    "ExecuteTime": {
     "end_time": "2020-11-25T01:04:19.488897Z",
     "start_time": "2020-11-25T01:04:18.001701Z"
    },
    "id": "HN7eXMXwY9qX",
    "pycharm": {
     "name": "#%%\n"
    }
   },
   "outputs": [],
   "source": [
    "#### import keras\n",
    "from tensorflow import keras\n",
    "from keras import layers\n",
    "from keras.layers import Input, Dense, Activation, Flatten\n",
    "from keras.layers import Dropout\n",
    "from keras.models import Model\n",
    "from keras.preprocessing import image\n",
    "from keras.utils import layer_utils\n",
    "from keras.utils.data_utils import get_file\n",
    "from keras.applications.imagenet_utils import preprocess_input\n",
    "import pydot\n",
    "from IPython.display import SVG\n",
    "from keras.utils.vis_utils import model_to_dot\n",
    "from keras.utils import plot_model\n",
    "from keras.optimizers import SGD\n",
    "import keras.backend as K\n",
    "from keras.layers import BatchNormalization                       \n",
    "from keras.layers import Conv2D, MaxPooling2D\n",
    "from keras.models import Sequential\n",
    "import numpy as np\n",
    "import time\n",
    "import matplotlib.pyplot as plt\n",
    "from matplotlib.pyplot import imshow\n",
    "\n",
    "np.random.seed(1)\n",
    "%matplotlib inline"
   ]
  },
  {
   "cell_type": "markdown",
   "metadata": {
    "id": "IigY4KyxY9qY",
    "pycharm": {
     "name": "#%% md\n"
    }
   },
   "source": [
    "<font size = 5 color=\"cornflowerblue\">\n",
    "\n",
    "Parte I: **Análisis de datos**"
   ]
  },
  {
   "cell_type": "markdown",
   "metadata": {
    "id": "u61K1aXdY9qY",
    "pycharm": {
     "name": "#%% md\n"
    }
   },
   "source": [
    "<font size=4 color='rosybrown'>\n",
    "    \n",
    "    \n",
    " #### Ejercicio 1"
   ]
  },
  {
   "cell_type": "markdown",
   "metadata": {
    "id": "FhUrAmz_Y9qY",
    "pycharm": {
     "name": "#%% md\n"
    }
   },
   "source": [
    "<font size=4>\n",
    "\n",
    "Importa y carga la base de datos mnist de Keras:"
   ]
  },
  {
   "cell_type": "markdown",
   "metadata": {
    "id": "6F9sXHpnY9qY",
    "pycharm": {
     "name": "#%% md\n"
    }
   },
   "source": [
    "<font size = 4>\n",
    "\n",
    "*El conjunto de datos mnist lo pueden obtener directamente de Keras: [mnist Keras](https://keras.io/examples/vision/mnist_convnet/)*"
   ]
  },
  {
   "cell_type": "code",
   "execution_count": 2,
   "metadata": {
    "ExecuteTime": {
     "end_time": "2020-11-25T01:04:19.493686Z",
     "start_time": "2020-11-25T01:04:19.490560Z"
    },
    "id": "sJEg1XWoY9qY",
    "pycharm": {
     "name": "#%%\n"
    }
   },
   "outputs": [],
   "source": [
    "# Escribe el codigo aquí\n",
    "(x_train, y_train), (x_test, y_test) = keras.datasets.mnist.load_data()"
   ]
  },
  {
   "cell_type": "markdown",
   "metadata": {
    "id": "9Rche5iiY9qZ",
    "pycharm": {
     "name": "#%% md\n"
    }
   },
   "source": [
    "<font size=4 color='rosybrown'>\n",
    "    \n",
    "    \n",
    " #### Ejercicio 2"
   ]
  },
  {
   "cell_type": "markdown",
   "metadata": {
    "id": "Qm3gpBZ7Y9qZ",
    "pycharm": {
     "name": "#%% md\n"
    }
   },
   "source": [
    "<font size=4>\n",
    "\n",
    "¿De qué tipo son los conjuntos que obtuviste?"
   ]
  },
  {
   "cell_type": "code",
   "execution_count": 3,
   "metadata": {
    "ExecuteTime": {
     "end_time": "2020-11-25T01:04:19.728584Z",
     "start_time": "2020-11-25T01:04:19.724692Z"
    },
    "colab": {
     "base_uri": "https://localhost:8080/"
    },
    "id": "V9HE2XiEY9qZ",
    "outputId": "895adc2b-8801-4a7e-e3f9-3f0922f5c3b6",
    "pycharm": {
     "name": "#%%\n"
    }
   },
   "outputs": [
    {
     "output_type": "stream",
     "name": "stdout",
     "text": [
      "The type of x_train is <class 'numpy.ndarray'>\n",
      "The type of y_train is <class 'numpy.ndarray'>\n",
      "\n",
      "The type of x_test is <class 'numpy.ndarray'>\n",
      "The type of y_test is <class 'numpy.ndarray'>\n"
     ]
    }
   ],
   "source": [
    "# Escribe el codigo aquí\n",
    "print('The type of x_train is', type(x_train))\n",
    "print('The type of y_train is', type(y_train))\n",
    "\n",
    "print('\\nThe type of x_test is', type(x_test))\n",
    "print('The type of y_test is', type(y_test))"
   ]
  },
  {
   "cell_type": "markdown",
   "metadata": {
    "id": "otvhGMUNY9qa",
    "pycharm": {
     "name": "#%% md\n"
    }
   },
   "source": [
    "<font size=4 color='rosybrown'>\n",
    "    \n",
    "    \n",
    " #### Ejercicio 3"
   ]
  },
  {
   "cell_type": "markdown",
   "metadata": {
    "id": "aPOWhd_CY9qa",
    "pycharm": {
     "name": "#%% md\n"
    }
   },
   "source": [
    "<font size=4>\n",
    "\n",
    "¿Qué dimensión tienen los conjuntos que obtuviste?"
   ]
  },
  {
   "cell_type": "code",
   "execution_count": 4,
   "metadata": {
    "ExecuteTime": {
     "end_time": "2020-11-25T01:04:19.728584Z",
     "start_time": "2020-11-25T01:04:19.724692Z"
    },
    "colab": {
     "base_uri": "https://localhost:8080/"
    },
    "id": "KbrsLu5eY9qa",
    "outputId": "dc8b2970-239e-4875-cb12-b00e9d00576c",
    "pycharm": {
     "name": "#%%\n"
    }
   },
   "outputs": [
    {
     "output_type": "stream",
     "name": "stdout",
     "text": [
      "The shape of x_train is (60000, 28, 28)\n",
      "The shape of y_train is (60000,)\n",
      "\n",
      "The shape of x_test is (10000, 28, 28)\n",
      "The shape of y_test is (10000,)\n"
     ]
    }
   ],
   "source": [
    "# Escribe el codigo aquí\n",
    "print('The shape of x_train is', x_train.shape)\n",
    "print('The shape of y_train is', y_train.shape)\n",
    "\n",
    "print('\\nThe shape of x_test is', x_test.shape)\n",
    "print('The shape of y_test is', y_test.shape)"
   ]
  },
  {
   "cell_type": "markdown",
   "metadata": {
    "id": "qWlG9ZUiY9qa",
    "pycharm": {
     "name": "#%% md\n"
    }
   },
   "source": [
    "<font size=4 color='rosybrown'>\n",
    "    \n",
    "    \n",
    " #### Ejercicio 4"
   ]
  },
  {
   "cell_type": "markdown",
   "metadata": {
    "id": "bKKoNbUmY9qb",
    "pycharm": {
     "name": "#%% md\n"
    }
   },
   "source": [
    "<font size=4>\n",
    "\n",
    "¿Cómo se ve una muestra de entrenamiento?, Responde a esta pregunta mostrando un ejemplo, ¿qué representa cada valor en la muestra?"
   ]
  },
  {
   "cell_type": "code",
   "execution_count": 5,
   "metadata": {
    "ExecuteTime": {
     "end_time": "2020-11-25T01:04:19.728584Z",
     "start_time": "2020-11-25T01:04:19.724692Z"
    },
    "colab": {
     "base_uri": "https://localhost:8080/"
    },
    "id": "_OG06L25Y9qb",
    "outputId": "91e4742b-2eed-4c81-82c0-0393f4b9c3f5",
    "pycharm": {
     "name": "#%%\n"
    }
   },
   "outputs": [
    {
     "output_type": "stream",
     "name": "stdout",
     "text": [
      "The features of a training sample \n",
      " \n",
      " [[0 0 0 0 0 0 0 0 0 0 0 0 0 0 0 0 0 0 0 0 0 0 0 0 0 0 0 0]]\n"
     ]
    }
   ],
   "source": [
    "# Escribe el codigo aquí\n",
    "sample = 0\n",
    "print(\"The features of a training sample \\n \\n\", x_train[sample][:1])"
   ]
  },
  {
   "cell_type": "markdown",
   "source": [
    "Los valores dentro de los paréntesis indican que tenemos arreglos de 28x28 pixeles "
   ],
   "metadata": {
    "id": "uirxO23Ohjlu",
    "pycharm": {
     "name": "#%% md\n"
    }
   }
  },
  {
   "cell_type": "markdown",
   "metadata": {
    "id": "LgPrIXk4Y9qb",
    "pycharm": {
     "name": "#%% md\n"
    }
   },
   "source": [
    "<font size=4 color='rosybrown'>\n",
    "    \n",
    "    \n",
    " #### Ejercicio 5"
   ]
  },
  {
   "cell_type": "markdown",
   "metadata": {
    "id": "rIQudexLY9qb",
    "pycharm": {
     "name": "#%% md\n"
    }
   },
   "source": [
    "<font size=4>\n",
    "\n",
    "¿Las muestras estan normalizadas?, (cómo puedes saber esto) si no estan normalizadas, normalizalas. \n",
    "\n",
    "*recuerda que en el caso de imágenes la normalizacion es dividir cada pixel por la intensidad máxima (255)*"
   ]
  },
  {
   "cell_type": "code",
   "execution_count": 6,
   "metadata": {
    "ExecuteTime": {
     "end_time": "2020-11-25T01:04:19.728584Z",
     "start_time": "2020-11-25T01:04:19.724692Z"
    },
    "id": "a2zC31U5Y9qb",
    "pycharm": {
     "name": "#%%\n"
    }
   },
   "outputs": [],
   "source": [
    "# Escribe el codigo aquí\n",
    "\n",
    "#Normalizamos dividiendo entre por la intensidad máxima\n",
    "train_x = x_train/255\n",
    "test_x = x_test/255"
   ]
  },
  {
   "cell_type": "markdown",
   "metadata": {
    "id": "zbc6qZJqY9qb",
    "pycharm": {
     "name": "#%% md\n"
    }
   },
   "source": [
    "<font size=4 color='rosybrown'>\n",
    "    \n",
    "    \n",
    " #### Ejercicio 6"
   ]
  },
  {
   "cell_type": "markdown",
   "metadata": {
    "id": "1G5iUp_YY9qc",
    "pycharm": {
     "name": "#%% md\n"
    }
   },
   "source": [
    "<font size=4>\n",
    "\n",
    "\n",
    "En un ejercicio anterior se obtuvo la muestra en forma de arreglo, ahora muestra la imagen y su correspondiente etiqueta (usa un ejemplo del conjunto de entrenamiento)."
   ]
  },
  {
   "cell_type": "code",
   "execution_count": 7,
   "metadata": {
    "ExecuteTime": {
     "end_time": "2020-11-25T01:04:19.728584Z",
     "start_time": "2020-11-25T01:04:19.724692Z"
    },
    "colab": {
     "base_uri": "https://localhost:8080/",
     "height": 301
    },
    "id": "FbV9pPeaY9qc",
    "outputId": "64c46d78-b9c7-4645-9537-9a76538fb1e0",
    "pycharm": {
     "name": "#%%\n"
    }
   },
   "outputs": [
    {
     "output_type": "stream",
     "name": "stdout",
     "text": [
      "\n",
      "The y value of the first training sample is 5\n"
     ]
    },
    {
     "output_type": "display_data",
     "data": {
      "text/plain": [
       "<Figure size 432x288 with 1 Axes>"
      ],
      "image/png": "[encoded data removed]"
     },
     "metadata": {
      "needs_background": "light"
     }
    }
   ],
   "source": [
    "# Escribe el codigo aquí\n",
    "plt.imshow(x_train[sample],cmap='gray');\n",
    "\n",
    "print(\"\\nThe y value of the first training sample is\",np.squeeze(y_train[sample]))"
   ]
  },
  {
   "cell_type": "markdown",
   "metadata": {
    "id": "CgGob_94Y9qc",
    "pycharm": {
     "name": "#%% md\n"
    }
   },
   "source": [
    "<font size=4 color='rosybrown'>\n",
    "    \n",
    "    \n",
    " #### Ejercicio 7"
   ]
  },
  {
   "cell_type": "markdown",
   "metadata": {
    "id": "VOUMq4nZY9qc",
    "pycharm": {
     "name": "#%% md\n"
    }
   },
   "source": [
    "<font size=4>\n",
    "\n",
    "Dada una muestra de entrada (input) ¿de qué forma se indica la etiqueta (output)?"
   ]
  },
  {
   "cell_type": "code",
   "execution_count": 8,
   "metadata": {
    "ExecuteTime": {
     "end_time": "2020-11-25T01:04:19.728584Z",
     "start_time": "2020-11-25T01:04:19.724692Z"
    },
    "colab": {
     "base_uri": "https://localhost:8080/"
    },
    "id": "VZdkeUKyY9qc",
    "outputId": "991bbb33-2a2b-4e31-c23c-ad040d5839e6",
    "pycharm": {
     "name": "#%%\n"
    }
   },
   "outputs": [
    {
     "output_type": "execute_result",
     "data": {
      "text/plain": [
       "array([5], dtype=uint8)"
      ]
     },
     "metadata": {},
     "execution_count": 8
    }
   ],
   "source": [
    "# Escribe el codigo aquí\n",
    "y_train[:1]"
   ]
  },
  {
   "cell_type": "markdown",
   "metadata": {
    "id": "i496KBEdY9qc",
    "pycharm": {
     "name": "#%% md\n"
    }
   },
   "source": [
    "<font size=4 color='rosybrown'>\n",
    "    \n",
    "    \n",
    " #### Ejercicio 8"
   ]
  },
  {
   "cell_type": "markdown",
   "metadata": {
    "id": "4wpkuJtoY9qc",
    "pycharm": {
     "name": "#%% md\n"
    }
   },
   "source": [
    "<font size=4>\n",
    "\n",
    "Convierte el output en representación one-hot.\n",
    "\n",
    "\n",
    "Hint: Puedes usar la función de Keras [to_categorical](https://keras.io/api/utils/python_utils/#to_categorical-function)\n",
    "\n",
    "Observa cómo cambian sus dimensiones (muéstralo usando shape)."
   ]
  },
  {
   "cell_type": "code",
   "source": [
    "y_train.shape"
   ],
   "metadata": {
    "colab": {
     "base_uri": "https://localhost:8080/"
    },
    "id": "kdO1hlDxWuc1",
    "outputId": "22469283-3d1f-48d7-ca8b-513c023384ce",
    "pycharm": {
     "name": "#%%\n"
    }
   },
   "execution_count": 9,
   "outputs": [
    {
     "output_type": "execute_result",
     "data": {
      "text/plain": [
       "(60000,)"
      ]
     },
     "metadata": {},
     "execution_count": 9
    }
   ]
  },
  {
   "cell_type": "code",
   "source": [
    "y_train.reshape(-1).shape"
   ],
   "metadata": {
    "colab": {
     "base_uri": "https://localhost:8080/"
    },
    "id": "pqNKniltWyqp",
    "outputId": "25c240cb-6ed1-4e10-a755-9cb2b98c252d",
    "pycharm": {
     "name": "#%%\n"
    }
   },
   "execution_count": 10,
   "outputs": [
    {
     "output_type": "execute_result",
     "data": {
      "text/plain": [
       "(60000,)"
      ]
     },
     "metadata": {},
     "execution_count": 10
    }
   ]
  },
  {
   "cell_type": "code",
   "source": [
    "train_y = np.eye(10)[y_train.reshape(-1)]\n",
    "test_y = np.eye(10)[y_test.reshape(-1)]"
   ],
   "metadata": {
    "id": "ZKXIKMLpW2nk",
    "pycharm": {
     "name": "#%%\n"
    }
   },
   "execution_count": 11,
   "outputs": []
  },
  {
   "cell_type": "code",
   "source": [
    "print(y_train[0:5])"
   ],
   "metadata": {
    "colab": {
     "base_uri": "https://localhost:8080/"
    },
    "id": "H56F6GL4W7I8",
    "outputId": "9e81485c-8260-4a81-a09d-aef7ea2ace6b",
    "pycharm": {
     "name": "#%%\n"
    }
   },
   "execution_count": 12,
   "outputs": [
    {
     "output_type": "stream",
     "name": "stdout",
     "text": [
      "[5 0 4 1 9]\n"
     ]
    }
   ]
  },
  {
   "cell_type": "code",
   "source": [
    "train_y[0:5]"
   ],
   "metadata": {
    "colab": {
     "base_uri": "https://localhost:8080/"
    },
    "id": "bHET0_8fW_gF",
    "outputId": "efc76724-1108-441c-d520-9ba31835f8d7",
    "pycharm": {
     "name": "#%%\n"
    }
   },
   "execution_count": 13,
   "outputs": [
    {
     "output_type": "execute_result",
     "data": {
      "text/plain": [
       "array([[0., 0., 0., 0., 0., 1., 0., 0., 0., 0.],\n",
       "       [1., 0., 0., 0., 0., 0., 0., 0., 0., 0.],\n",
       "       [0., 0., 0., 0., 1., 0., 0., 0., 0., 0.],\n",
       "       [0., 1., 0., 0., 0., 0., 0., 0., 0., 0.],\n",
       "       [0., 0., 0., 0., 0., 0., 0., 0., 0., 1.]])"
      ]
     },
     "metadata": {},
     "execution_count": 13
    }
   ]
  },
  {
   "cell_type": "markdown",
   "metadata": {
    "id": "AnEQibmdY9qd",
    "pycharm": {
     "name": "#%% md\n"
    }
   },
   "source": [
    "<font size=4 color='rosybrown'>\n",
    "    \n",
    "    \n",
    " #### Ejercicio 9"
   ]
  },
  {
   "cell_type": "markdown",
   "metadata": {
    "id": "AvEQmkH3Y9qd",
    "pycharm": {
     "name": "#%% md\n"
    }
   },
   "source": [
    "<font size=4>\n",
    "\n",
    "Hasta aquí debes tener cuatro conjuntos de datos: los correspondientes a las entradas y las salidas de la red neuronal que se van a usar para el entrenamiento de la red (train_x y train_y) y los correspondientes a las entradas y salidas de la red neuronal que se van a usar para la prueba (test_x, test_y).\n",
    "\n",
    "Muestra las dimensiones de estos cuatro conjuntos."
   ]
  },
  {
   "cell_type": "code",
   "source": [
    "print('The shape of x_train is', train_x.shape)\n",
    "print('The shape of y_train is', train_y.shape)\n",
    "\n",
    "print('\\nThe shape of x_test is', test_x.shape)\n",
    "print('The shape of y_test is', test_y.shape)"
   ],
   "metadata": {
    "colab": {
     "base_uri": "https://localhost:8080/"
    },
    "id": "nFu_XPxyXOBL",
    "outputId": "397317dd-fa5a-4081-c045-6eccd18c8aed",
    "pycharm": {
     "name": "#%%\n"
    }
   },
   "execution_count": 14,
   "outputs": [
    {
     "output_type": "stream",
     "name": "stdout",
     "text": [
      "The shape of x_train is (60000, 28, 28)\n",
      "The shape of y_train is (60000, 10)\n",
      "\n",
      "The shape of x_test is (10000, 28, 28)\n",
      "The shape of y_test is (10000, 10)\n"
     ]
    }
   ]
  },
  {
   "cell_type": "markdown",
   "metadata": {
    "id": "cGrR9znHY9qd",
    "pycharm": {
     "name": "#%% md\n"
    }
   },
   "source": [
    "<font size = 5 color=\"cornflowerblue\">\n",
    "\n",
    "Parte II: **Implemetación de la red neuronal**"
   ]
  },
  {
   "cell_type": "markdown",
   "metadata": {
    "id": "ivTSntgDY9qd",
    "pycharm": {
     "name": "#%% md\n"
    }
   },
   "source": [
    "<font size=4 color='rosybrown'>\n",
    "    \n",
    "    \n",
    " #### Ejercicio 10"
   ]
  },
  {
   "cell_type": "markdown",
   "metadata": {
    "id": "Qem2mq9xY9qd",
    "pycharm": {
     "name": "#%% md\n"
    }
   },
   "source": [
    "<font size=4>\n",
    "\n",
    "Implementa una red neuronal de convolución dentro de una función (como lo hemos visto en clase). Puedes guiarte con el notebook de la clase 10 o de [mnist Keras](https://keras.io/examples/vision/mnist_convnet/) *(no uses la misma arquitectura que se da)*.\n",
    "\n",
    "Cuida que la función que implementes sea flexible, es decir, que si cambiamos las dimensiones de las entradas no se tenga que modificar la función directamente, más bien indicarlo como un argumento de la función. "
   ]
  },
  {
   "cell_type": "code",
   "execution_count": 15,
   "metadata": {
    "ExecuteTime": {
     "end_time": "2020-11-25T01:04:19.728584Z",
     "start_time": "2020-11-25T01:04:19.724692Z"
    },
    "id": "IQqnJh16Y9qe",
    "pycharm": {
     "name": "#%%\n"
    }
   },
   "outputs": [],
   "source": [
    "# Escribe el codigo aquí\n",
    "def architecture(input_shape, num_classes, activation, dropout=False, batch_normalization=False):\n",
    "    \n",
    "    model = Sequential()\n",
    "    \n",
    "    model.add(Conv2D(64, 3, padding='same', kernel_initializer='he_uniform',bias_initializer='zeros', \\\n",
    "                     input_shape=input_shape))\n",
    "    model.add(Activation(activation))    \n",
    "    if batch_normalization: \n",
    "        model.add(BatchNormalization())  # Performing batch normalization to the output of the input layer\n",
    "       \n",
    "    model.add(Conv2D(64, 3, padding='same',kernel_initializer='he_uniform',bias_initializer='zeros'))\n",
    "    model.add(Activation(activation))    \n",
    "    if batch_normalization:\n",
    "        model.add(BatchNormalization())  # Performing batch normalization to the convolution layer\n",
    "        \n",
    "    model.add(MaxPooling2D()) \n",
    "    \n",
    "    \n",
    "    model.add(Flatten())\n",
    "    if dropout:\n",
    "        model.add(Dropout(0.30))\n",
    "    \n",
    "    model.add(Dense(50, kernel_initializer='he_uniform',bias_initializer='zeros'))\n",
    "    model.add(Activation(activation))    \n",
    "    if batch_normalization:\n",
    "        model.add(BatchNormalization())  \n",
    "    if dropout:\n",
    "        model.add(Dropout(0.30))\n",
    "    \n",
    "    model.add(Dense(50, kernel_initializer='he_uniform',bias_initializer='zeros'))\n",
    "    model.add(Activation(activation))    \n",
    "    if batch_normalization:\n",
    "        model.add(BatchNormalization())      \n",
    "    if dropout:\n",
    "        model.add(Dropout(0.30))\n",
    "    \n",
    "    model.add(Dense(num_classes))\n",
    "    model.add(Activation('softmax',name='CNN_Cifar10Model'))\n",
    "    \n",
    "    return model"
   ]
  },
  {
   "cell_type": "markdown",
   "metadata": {
    "id": "yAehE7c0Y9qe",
    "pycharm": {
     "name": "#%% md\n"
    }
   },
   "source": [
    "<font size=4 color='rosybrown'>\n",
    "    \n",
    "    \n",
    " #### Ejercicio 11"
   ]
  },
  {
   "cell_type": "markdown",
   "metadata": {
    "id": "8JARxLTEY9qe",
    "pycharm": {
     "name": "#%% md\n"
    }
   },
   "source": [
    "<font size=4>\n",
    "\n",
    "Crea el modelo definido en el ejercicio anterior (es decir llama a la función que creaste con los argumentos adecuados)."
   ]
  },
  {
   "cell_type": "code",
   "execution_count": 16,
   "metadata": {
    "ExecuteTime": {
     "end_time": "2020-11-25T01:04:19.728584Z",
     "start_time": "2020-11-25T01:04:19.724692Z"
    },
    "id": "wRjg5mC9Y9qe",
    "pycharm": {
     "name": "#%%\n"
    }
   },
   "outputs": [],
   "source": [
    "# Escribe el codigo aquí\n",
    "one_image = (28, 28, 1)\n",
    "activation='sigmoid'\n",
    "num_classes=10\n",
    "dropout=True\n",
    "batch_normalization=True\n",
    "\n",
    "mnist_model = architecture(one_image,num_classes,activation,dropout,batch_normalization)"
   ]
  },
  {
   "cell_type": "markdown",
   "metadata": {
    "id": "pVDLdz1bY9qe",
    "pycharm": {
     "name": "#%% md\n"
    }
   },
   "source": [
    "<font size=4 color='rosybrown'>\n",
    "    \n",
    "    \n",
    " #### Ejercicio 12"
   ]
  },
  {
   "cell_type": "markdown",
   "metadata": {
    "id": "AMPFZvkSY9qe",
    "pycharm": {
     "name": "#%% md\n"
    }
   },
   "source": [
    "<font size=4>\n",
    "\n",
    "Usa la función plot_model para obtener una representación esquemática del modelo implementado. "
   ]
  },
  {
   "cell_type": "code",
   "execution_count": 17,
   "metadata": {
    "ExecuteTime": {
     "end_time": "2020-11-25T01:04:19.728584Z",
     "start_time": "2020-11-25T01:04:19.724692Z"
    },
    "id": "KsIQwCPYY9qe",
    "colab": {
     "base_uri": "https://localhost:8080/",
     "height": 34
    },
    "outputId": "1e5571a5-3d11-494f-f7c5-82942572f90e",
    "pycharm": {
     "name": "#%%\n"
    }
   },
   "outputs": [
    {
     "output_type": "execute_result",
     "data": {
      "image/png": "[encoded data removed]",
      "text/plain": [
       "<IPython.core.display.Image object>"
      ]
     },
     "metadata": {},
     "execution_count": 17
    }
   ],
   "source": [
    "# Escribe el codigo aquí\n",
    "plot_model(mnist_model,show_shapes=False, rankdir='LR',show_layer_names=False)"
   ]
  },
  {
   "cell_type": "markdown",
   "metadata": {
    "id": "w1LHYVOEY9qe",
    "pycharm": {
     "name": "#%% md\n"
    }
   },
   "source": [
    "<font size=4 color='black'> \n",
    " [plot_model](https://keras.io/visualization/#training-history-visualization)"
   ]
  },
  {
   "cell_type": "markdown",
   "metadata": {
    "id": "2cMAlZKYY9qf",
    "pycharm": {
     "name": "#%% md\n"
    }
   },
   "source": [
    "<font size=4 color='rosybrown'>\n",
    "    \n",
    "    \n",
    " #### Ejercicio 13"
   ]
  },
  {
   "cell_type": "markdown",
   "metadata": {
    "id": "jcK0VI3OY9qf",
    "pycharm": {
     "name": "#%% md\n"
    }
   },
   "source": [
    "<font size=4>\n",
    "\n",
    "¿Cuántos parámetros tiene el modelo de red neuronal que implementaste? \n",
    "\n",
    "Puedes responder a esta pregunta usando el atributo summary(). "
   ]
  },
  {
   "cell_type": "code",
   "execution_count": 18,
   "metadata": {
    "ExecuteTime": {
     "end_time": "2020-11-25T01:04:19.728584Z",
     "start_time": "2020-11-25T01:04:19.724692Z"
    },
    "id": "Cg4lH1ojY9qf",
    "colab": {
     "base_uri": "https://localhost:8080/"
    },
    "outputId": "7a32a499-88ab-473e-c052-8b93262ee7a9",
    "pycharm": {
     "name": "#%%\n"
    }
   },
   "outputs": [
    {
     "output_type": "stream",
     "name": "stdout",
     "text": [
      "Model: \"sequential\"\n",
      "_________________________________________________________________\n",
      " Layer (type)                Output Shape              Param #   \n",
      "=================================================================\n",
      " conv2d (Conv2D)             (None, 28, 28, 64)        640       \n",
      "                                                                 \n",
      " activation (Activation)     (None, 28, 28, 64)        0         \n",
      "                                                                 \n",
      " batch_normalization (BatchN  (None, 28, 28, 64)       256       \n",
      " ormalization)                                                   \n",
      "                                                                 \n",
      " conv2d_1 (Conv2D)           (None, 28, 28, 64)        36928     \n",
      "                                                                 \n",
      " activation_1 (Activation)   (None, 28, 28, 64)        0         \n",
      "                                                                 \n",
      " batch_normalization_1 (Batc  (None, 28, 28, 64)       256       \n",
      " hNormalization)                                                 \n",
      "                                                                 \n",
      " max_pooling2d (MaxPooling2D  (None, 14, 14, 64)       0         \n",
      " )                                                               \n",
      "                                                                 \n",
      " flatten (Flatten)           (None, 12544)             0         \n",
      "                                                                 \n",
      " dropout (Dropout)           (None, 12544)             0         \n",
      "                                                                 \n",
      " dense (Dense)               (None, 50)                627250    \n",
      "                                                                 \n",
      " activation_2 (Activation)   (None, 50)                0         \n",
      "                                                                 \n",
      " batch_normalization_2 (Batc  (None, 50)               200       \n",
      " hNormalization)                                                 \n",
      "                                                                 \n",
      " dropout_1 (Dropout)         (None, 50)                0         \n",
      "                                                                 \n",
      " dense_1 (Dense)             (None, 50)                2550      \n",
      "                                                                 \n",
      " activation_3 (Activation)   (None, 50)                0         \n",
      "                                                                 \n",
      " batch_normalization_3 (Batc  (None, 50)               200       \n",
      " hNormalization)                                                 \n",
      "                                                                 \n",
      " dropout_2 (Dropout)         (None, 50)                0         \n",
      "                                                                 \n",
      " dense_2 (Dense)             (None, 10)                510       \n",
      "                                                                 \n",
      " CNN_Cifar10Model (Activatio  (None, 10)               0         \n",
      " n)                                                              \n",
      "                                                                 \n",
      "=================================================================\n",
      "Total params: 668,790\n",
      "Trainable params: 668,334\n",
      "Non-trainable params: 456\n",
      "_________________________________________________________________\n"
     ]
    }
   ],
   "source": [
    "# Escribe el codigo aquí\n",
    "mnist_model.summary()"
   ]
  },
  {
   "cell_type": "markdown",
   "metadata": {
    "id": "TMPxEDZqY9qf",
    "pycharm": {
     "name": "#%% md\n"
    }
   },
   "source": [
    "<font size=4 color='rosybrown'>\n",
    "    \n",
    "    \n",
    " #### Ejercicio 14"
   ]
  },
  {
   "cell_type": "markdown",
   "metadata": {
    "id": "nj3YyouSY9qf",
    "pycharm": {
     "name": "#%% md\n"
    }
   },
   "source": [
    "<font size=4>\n",
    "\n",
    "Compila el modelo seleccionando un optimizador (con una tasa de aprendizaje seleccionable, es decir, no uses los valores por defecto), la función de costo (loss) y una metrica adecuadas para este problema.\n",
    "\n",
    "Hint: en la clase 10 revisamos un problema similar, puedes consultar la función de costo y la métrica utilizada. "
   ]
  },
  {
   "cell_type": "code",
   "execution_count": 19,
   "metadata": {
    "ExecuteTime": {
     "end_time": "2020-11-25T01:04:19.728584Z",
     "start_time": "2020-11-25T01:04:19.724692Z"
    },
    "id": "NjGqQcyIY9qf",
    "pycharm": {
     "name": "#%%\n"
    }
   },
   "outputs": [],
   "source": [
    "# Escribe el codigo aquí\n",
    "learning_rate = 0.015\n",
    "\n",
    "optimizer = keras.optimizers.SGD(learning_rate=learning_rate, momentum=0.0, nesterov=False)"
   ]
  },
  {
   "cell_type": "code",
   "source": [
    "loss_function = 'categorical_crossentropy'\n",
    "metric_function = 'accuracy'"
   ],
   "metadata": {
    "id": "VDNBMeuVZY7A",
    "pycharm": {
     "name": "#%%\n"
    }
   },
   "execution_count": 20,
   "outputs": []
  },
  {
   "cell_type": "code",
   "source": [
    "mnist_model.compile(optimizer = optimizer, loss = loss_function, metrics = [metric_function])"
   ],
   "metadata": {
    "id": "ygkf7sBTZ3Xd",
    "pycharm": {
     "name": "#%%\n"
    }
   },
   "execution_count": 21,
   "outputs": []
  },
  {
   "cell_type": "markdown",
   "metadata": {
    "id": "0cH3xPd7Y9qf",
    "pycharm": {
     "name": "#%% md\n"
    }
   },
   "source": [
    "<font size=4 color='rosybrown'>\n",
    "    \n",
    "    \n",
    " #### Ejercicio 15\n"
   ]
  },
  {
   "cell_type": "markdown",
   "metadata": {
    "id": "TtJgkEeFY9qf",
    "pycharm": {
     "name": "#%% md\n"
    }
   },
   "source": [
    "<font size=4>\n",
    "\n",
    "Entrena la red neuronal que implementaste, indica la cantidad de datos a usar para validar el modelo, el número de epocas a utilizar así como el tamaño del batch. No olvides usar shuffle=True."
   ]
  },
  {
   "cell_type": "code",
   "execution_count": 22,
   "metadata": {
    "ExecuteTime": {
     "end_time": "2020-11-25T01:04:19.728584Z",
     "start_time": "2020-11-25T01:04:19.724692Z"
    },
    "id": "R4vYWJ-PY9qg",
    "colab": {
     "base_uri": "https://localhost:8080/"
    },
    "outputId": "ef8f9602-dd6d-4db4-871a-b458303c3cc7",
    "pycharm": {
     "name": "#%%\n"
    }
   },
   "outputs": [
    {
     "output_type": "stream",
     "name": "stdout",
     "text": [
      "Epoch 1/100\n",
      "422/422 [==============================] - 10s 17ms/step - loss: 0.5394 - accuracy: 0.8427 - val_loss: 0.1946 - val_accuracy: 0.9505\n",
      "Epoch 2/100\n",
      "422/422 [==============================] - 7s 17ms/step - loss: 0.2810 - accuracy: 0.9220 - val_loss: 0.0929 - val_accuracy: 0.9757\n",
      "Epoch 3/100\n",
      "422/422 [==============================] - 9s 21ms/step - loss: 0.2071 - accuracy: 0.9439 - val_loss: 0.0718 - val_accuracy: 0.9790\n",
      "Epoch 4/100\n",
      "422/422 [==============================] - 8s 19ms/step - loss: 0.1723 - accuracy: 0.9514 - val_loss: 0.0616 - val_accuracy: 0.9825\n",
      "Epoch 5/100\n",
      "422/422 [==============================] - 7s 16ms/step - loss: 0.1482 - accuracy: 0.9584 - val_loss: 0.0578 - val_accuracy: 0.9845\n",
      "Epoch 6/100\n",
      "422/422 [==============================] - 7s 15ms/step - loss: 0.1314 - accuracy: 0.9634 - val_loss: 0.0540 - val_accuracy: 0.9847\n",
      "Epoch 7/100\n",
      "422/422 [==============================] - 7s 16ms/step - loss: 0.1169 - accuracy: 0.9665 - val_loss: 0.0499 - val_accuracy: 0.9867\n",
      "Epoch 8/100\n",
      "422/422 [==============================] - 7s 15ms/step - loss: 0.1095 - accuracy: 0.9691 - val_loss: 0.0525 - val_accuracy: 0.9848\n",
      "Epoch 9/100\n",
      "422/422 [==============================] - 6s 15ms/step - loss: 0.1000 - accuracy: 0.9719 - val_loss: 0.0490 - val_accuracy: 0.9875\n",
      "Epoch 10/100\n",
      "422/422 [==============================] - 7s 16ms/step - loss: 0.0986 - accuracy: 0.9718 - val_loss: 0.0453 - val_accuracy: 0.9875\n",
      "Epoch 11/100\n",
      "422/422 [==============================] - 6s 15ms/step - loss: 0.0871 - accuracy: 0.9749 - val_loss: 0.0409 - val_accuracy: 0.9883\n",
      "Epoch 12/100\n",
      "422/422 [==============================] - 7s 15ms/step - loss: 0.0819 - accuracy: 0.9761 - val_loss: 0.0456 - val_accuracy: 0.9877\n",
      "Epoch 13/100\n",
      "422/422 [==============================] - 7s 16ms/step - loss: 0.0810 - accuracy: 0.9756 - val_loss: 0.0425 - val_accuracy: 0.9890\n",
      "Epoch 14/100\n",
      "422/422 [==============================] - 7s 17ms/step - loss: 0.0756 - accuracy: 0.9778 - val_loss: 0.0415 - val_accuracy: 0.9892\n",
      "Epoch 15/100\n",
      "422/422 [==============================] - 8s 20ms/step - loss: 0.0710 - accuracy: 0.9791 - val_loss: 0.0409 - val_accuracy: 0.9877\n",
      "Epoch 16/100\n",
      "422/422 [==============================] - 9s 21ms/step - loss: 0.0694 - accuracy: 0.9798 - val_loss: 0.0409 - val_accuracy: 0.9885\n",
      "Epoch 17/100\n",
      "422/422 [==============================] - 6s 15ms/step - loss: 0.0660 - accuracy: 0.9812 - val_loss: 0.0425 - val_accuracy: 0.9890\n",
      "Epoch 18/100\n",
      "422/422 [==============================] - 7s 15ms/step - loss: 0.0634 - accuracy: 0.9814 - val_loss: 0.0400 - val_accuracy: 0.9895\n",
      "Epoch 19/100\n",
      "422/422 [==============================] - 7s 16ms/step - loss: 0.0623 - accuracy: 0.9821 - val_loss: 0.0382 - val_accuracy: 0.9897\n",
      "Epoch 20/100\n",
      "422/422 [==============================] - 7s 16ms/step - loss: 0.0588 - accuracy: 0.9821 - val_loss: 0.0426 - val_accuracy: 0.9893\n",
      "Epoch 21/100\n",
      "422/422 [==============================] - 7s 15ms/step - loss: 0.0590 - accuracy: 0.9822 - val_loss: 0.0394 - val_accuracy: 0.9895\n",
      "Epoch 22/100\n",
      "422/422 [==============================] - 7s 15ms/step - loss: 0.0553 - accuracy: 0.9836 - val_loss: 0.0410 - val_accuracy: 0.9897\n",
      "Epoch 23/100\n",
      "422/422 [==============================] - 7s 15ms/step - loss: 0.0540 - accuracy: 0.9837 - val_loss: 0.0387 - val_accuracy: 0.9890\n",
      "Epoch 24/100\n",
      "422/422 [==============================] - 7s 16ms/step - loss: 0.0511 - accuracy: 0.9851 - val_loss: 0.0399 - val_accuracy: 0.9893\n",
      "Epoch 25/100\n",
      "422/422 [==============================] - 7s 15ms/step - loss: 0.0512 - accuracy: 0.9845 - val_loss: 0.0392 - val_accuracy: 0.9887\n",
      "Epoch 26/100\n",
      "422/422 [==============================] - 8s 20ms/step - loss: 0.0481 - accuracy: 0.9849 - val_loss: 0.0388 - val_accuracy: 0.9898\n",
      "Epoch 27/100\n",
      "422/422 [==============================] - 9s 20ms/step - loss: 0.0474 - accuracy: 0.9856 - val_loss: 0.0407 - val_accuracy: 0.9892\n",
      "Epoch 28/100\n",
      "422/422 [==============================] - 7s 15ms/step - loss: 0.0466 - accuracy: 0.9861 - val_loss: 0.0400 - val_accuracy: 0.9892\n",
      "Epoch 29/100\n",
      "422/422 [==============================] - 7s 16ms/step - loss: 0.0459 - accuracy: 0.9859 - val_loss: 0.0392 - val_accuracy: 0.9898\n",
      "Epoch 30/100\n",
      "422/422 [==============================] - 7s 16ms/step - loss: 0.0435 - accuracy: 0.9872 - val_loss: 0.0383 - val_accuracy: 0.9903\n",
      "Epoch 31/100\n",
      "422/422 [==============================] - 7s 16ms/step - loss: 0.0420 - accuracy: 0.9868 - val_loss: 0.0368 - val_accuracy: 0.9903\n",
      "Epoch 32/100\n",
      "422/422 [==============================] - 7s 16ms/step - loss: 0.0407 - accuracy: 0.9881 - val_loss: 0.0394 - val_accuracy: 0.9895\n",
      "Epoch 33/100\n",
      "422/422 [==============================] - 7s 16ms/step - loss: 0.0414 - accuracy: 0.9879 - val_loss: 0.0386 - val_accuracy: 0.9900\n",
      "Epoch 34/100\n",
      "422/422 [==============================] - 7s 16ms/step - loss: 0.0394 - accuracy: 0.9881 - val_loss: 0.0371 - val_accuracy: 0.9902\n",
      "Epoch 35/100\n",
      "422/422 [==============================] - 7s 15ms/step - loss: 0.0378 - accuracy: 0.9889 - val_loss: 0.0381 - val_accuracy: 0.9898\n",
      "Epoch 36/100\n",
      "422/422 [==============================] - 7s 16ms/step - loss: 0.0372 - accuracy: 0.9887 - val_loss: 0.0389 - val_accuracy: 0.9897\n",
      "Epoch 37/100\n",
      "422/422 [==============================] - 7s 16ms/step - loss: 0.0373 - accuracy: 0.9887 - val_loss: 0.0385 - val_accuracy: 0.9905\n",
      "Epoch 38/100\n",
      "422/422 [==============================] - 7s 16ms/step - loss: 0.0360 - accuracy: 0.9886 - val_loss: 0.0368 - val_accuracy: 0.9903\n",
      "Epoch 39/100\n",
      "422/422 [==============================] - 7s 16ms/step - loss: 0.0346 - accuracy: 0.9895 - val_loss: 0.0367 - val_accuracy: 0.9905\n",
      "Epoch 40/100\n",
      "422/422 [==============================] - 7s 16ms/step - loss: 0.0326 - accuracy: 0.9901 - val_loss: 0.0399 - val_accuracy: 0.9903\n",
      "Epoch 41/100\n",
      "422/422 [==============================] - 7s 16ms/step - loss: 0.0345 - accuracy: 0.9896 - val_loss: 0.0396 - val_accuracy: 0.9890\n",
      "Epoch 42/100\n",
      "422/422 [==============================] - 7s 16ms/step - loss: 0.0326 - accuracy: 0.9899 - val_loss: 0.0393 - val_accuracy: 0.9907\n",
      "Epoch 43/100\n",
      "422/422 [==============================] - 7s 16ms/step - loss: 0.0319 - accuracy: 0.9902 - val_loss: 0.0390 - val_accuracy: 0.9910\n",
      "Epoch 44/100\n",
      "422/422 [==============================] - 7s 16ms/step - loss: 0.0311 - accuracy: 0.9898 - val_loss: 0.0381 - val_accuracy: 0.9907\n",
      "Epoch 45/100\n",
      "422/422 [==============================] - 7s 16ms/step - loss: 0.0313 - accuracy: 0.9899 - val_loss: 0.0385 - val_accuracy: 0.9903\n",
      "Epoch 46/100\n",
      "422/422 [==============================] - 7s 16ms/step - loss: 0.0310 - accuracy: 0.9904 - val_loss: 0.0394 - val_accuracy: 0.9905\n",
      "Epoch 47/100\n",
      "422/422 [==============================] - 7s 16ms/step - loss: 0.0293 - accuracy: 0.9910 - val_loss: 0.0393 - val_accuracy: 0.9905\n",
      "Epoch 48/100\n",
      "422/422 [==============================] - 7s 16ms/step - loss: 0.0283 - accuracy: 0.9909 - val_loss: 0.0395 - val_accuracy: 0.9907\n",
      "Epoch 49/100\n",
      "422/422 [==============================] - 7s 16ms/step - loss: 0.0270 - accuracy: 0.9916 - val_loss: 0.0397 - val_accuracy: 0.9902\n",
      "Epoch 50/100\n",
      "422/422 [==============================] - 7s 15ms/step - loss: 0.0272 - accuracy: 0.9914 - val_loss: 0.0375 - val_accuracy: 0.9903\n",
      "Epoch 51/100\n",
      "422/422 [==============================] - 7s 15ms/step - loss: 0.0275 - accuracy: 0.9917 - val_loss: 0.0401 - val_accuracy: 0.9907\n",
      "Epoch 52/100\n",
      "422/422 [==============================] - 7s 15ms/step - loss: 0.0268 - accuracy: 0.9916 - val_loss: 0.0413 - val_accuracy: 0.9903\n",
      "Epoch 53/100\n",
      "422/422 [==============================] - 7s 16ms/step - loss: 0.0262 - accuracy: 0.9917 - val_loss: 0.0396 - val_accuracy: 0.9910\n",
      "Epoch 54/100\n",
      "422/422 [==============================] - 7s 16ms/step - loss: 0.0263 - accuracy: 0.9922 - val_loss: 0.0377 - val_accuracy: 0.9913\n",
      "Epoch 55/100\n",
      "422/422 [==============================] - 7s 15ms/step - loss: 0.0247 - accuracy: 0.9921 - val_loss: 0.0392 - val_accuracy: 0.9905\n",
      "Epoch 56/100\n",
      "422/422 [==============================] - 7s 15ms/step - loss: 0.0267 - accuracy: 0.9916 - val_loss: 0.0375 - val_accuracy: 0.9907\n",
      "Epoch 57/100\n",
      "422/422 [==============================] - 7s 16ms/step - loss: 0.0256 - accuracy: 0.9917 - val_loss: 0.0378 - val_accuracy: 0.9910\n",
      "Epoch 58/100\n",
      "422/422 [==============================] - 7s 15ms/step - loss: 0.0243 - accuracy: 0.9919 - val_loss: 0.0382 - val_accuracy: 0.9922\n",
      "Epoch 59/100\n",
      "422/422 [==============================] - 7s 15ms/step - loss: 0.0235 - accuracy: 0.9924 - val_loss: 0.0378 - val_accuracy: 0.9913\n",
      "Epoch 60/100\n",
      "422/422 [==============================] - 7s 15ms/step - loss: 0.0234 - accuracy: 0.9929 - val_loss: 0.0374 - val_accuracy: 0.9910\n",
      "Epoch 61/100\n",
      "422/422 [==============================] - 7s 16ms/step - loss: 0.0225 - accuracy: 0.9930 - val_loss: 0.0392 - val_accuracy: 0.9913\n",
      "Epoch 62/100\n",
      "422/422 [==============================] - 7s 16ms/step - loss: 0.0225 - accuracy: 0.9930 - val_loss: 0.0379 - val_accuracy: 0.9913\n",
      "Epoch 63/100\n",
      "422/422 [==============================] - 7s 16ms/step - loss: 0.0219 - accuracy: 0.9927 - val_loss: 0.0392 - val_accuracy: 0.9918\n",
      "Epoch 64/100\n",
      "422/422 [==============================] - 7s 16ms/step - loss: 0.0211 - accuracy: 0.9935 - val_loss: 0.0389 - val_accuracy: 0.9912\n",
      "Epoch 65/100\n",
      "422/422 [==============================] - 7s 16ms/step - loss: 0.0227 - accuracy: 0.9929 - val_loss: 0.0388 - val_accuracy: 0.9915\n",
      "Epoch 66/100\n",
      "422/422 [==============================] - 7s 15ms/step - loss: 0.0210 - accuracy: 0.9937 - val_loss: 0.0391 - val_accuracy: 0.9917\n",
      "Epoch 67/100\n",
      "422/422 [==============================] - 7s 15ms/step - loss: 0.0220 - accuracy: 0.9932 - val_loss: 0.0387 - val_accuracy: 0.9910\n",
      "Epoch 68/100\n",
      "422/422 [==============================] - 7s 15ms/step - loss: 0.0209 - accuracy: 0.9936 - val_loss: 0.0360 - val_accuracy: 0.9918\n",
      "Epoch 69/100\n",
      "422/422 [==============================] - 7s 15ms/step - loss: 0.0201 - accuracy: 0.9938 - val_loss: 0.0398 - val_accuracy: 0.9910\n",
      "Epoch 70/100\n",
      "422/422 [==============================] - 7s 15ms/step - loss: 0.0200 - accuracy: 0.9936 - val_loss: 0.0388 - val_accuracy: 0.9915\n",
      "Epoch 71/100\n",
      "422/422 [==============================] - 7s 15ms/step - loss: 0.0194 - accuracy: 0.9938 - val_loss: 0.0384 - val_accuracy: 0.9918\n",
      "Epoch 72/100\n",
      "422/422 [==============================] - 7s 15ms/step - loss: 0.0201 - accuracy: 0.9938 - val_loss: 0.0404 - val_accuracy: 0.9908\n",
      "Epoch 73/100\n",
      "422/422 [==============================] - 7s 16ms/step - loss: 0.0204 - accuracy: 0.9936 - val_loss: 0.0377 - val_accuracy: 0.9918\n",
      "Epoch 74/100\n",
      "422/422 [==============================] - 7s 16ms/step - loss: 0.0191 - accuracy: 0.9943 - val_loss: 0.0387 - val_accuracy: 0.9912\n",
      "Epoch 75/100\n",
      "422/422 [==============================] - 7s 16ms/step - loss: 0.0207 - accuracy: 0.9935 - val_loss: 0.0374 - val_accuracy: 0.9918\n",
      "Epoch 76/100\n",
      "422/422 [==============================] - 7s 16ms/step - loss: 0.0188 - accuracy: 0.9939 - val_loss: 0.0391 - val_accuracy: 0.9912\n",
      "Epoch 77/100\n",
      "422/422 [==============================] - 7s 15ms/step - loss: 0.0179 - accuracy: 0.9948 - val_loss: 0.0405 - val_accuracy: 0.9915\n",
      "Epoch 78/100\n",
      "422/422 [==============================] - 7s 16ms/step - loss: 0.0176 - accuracy: 0.9946 - val_loss: 0.0383 - val_accuracy: 0.9908\n",
      "Epoch 79/100\n",
      "422/422 [==============================] - 7s 16ms/step - loss: 0.0173 - accuracy: 0.9944 - val_loss: 0.0395 - val_accuracy: 0.9915\n",
      "Epoch 80/100\n",
      "422/422 [==============================] - 7s 15ms/step - loss: 0.0189 - accuracy: 0.9942 - val_loss: 0.0393 - val_accuracy: 0.9908\n",
      "Epoch 81/100\n",
      "422/422 [==============================] - 7s 16ms/step - loss: 0.0161 - accuracy: 0.9949 - val_loss: 0.0404 - val_accuracy: 0.9910\n",
      "Epoch 82/100\n",
      "422/422 [==============================] - 7s 15ms/step - loss: 0.0161 - accuracy: 0.9950 - val_loss: 0.0404 - val_accuracy: 0.9913\n",
      "Epoch 83/100\n",
      "422/422 [==============================] - 7s 16ms/step - loss: 0.0168 - accuracy: 0.9944 - val_loss: 0.0418 - val_accuracy: 0.9917\n",
      "Epoch 84/100\n",
      "422/422 [==============================] - 7s 16ms/step - loss: 0.0176 - accuracy: 0.9944 - val_loss: 0.0385 - val_accuracy: 0.9918\n",
      "Epoch 85/100\n",
      "422/422 [==============================] - 7s 16ms/step - loss: 0.0170 - accuracy: 0.9943 - val_loss: 0.0407 - val_accuracy: 0.9912\n",
      "Epoch 86/100\n",
      "422/422 [==============================] - 7s 16ms/step - loss: 0.0173 - accuracy: 0.9946 - val_loss: 0.0391 - val_accuracy: 0.9913\n",
      "Epoch 87/100\n",
      "422/422 [==============================] - 7s 16ms/step - loss: 0.0169 - accuracy: 0.9946 - val_loss: 0.0403 - val_accuracy: 0.9918\n",
      "Epoch 88/100\n",
      "422/422 [==============================] - 7s 16ms/step - loss: 0.0164 - accuracy: 0.9947 - val_loss: 0.0405 - val_accuracy: 0.9907\n",
      "Epoch 89/100\n",
      "422/422 [==============================] - 7s 16ms/step - loss: 0.0149 - accuracy: 0.9953 - val_loss: 0.0398 - val_accuracy: 0.9915\n",
      "Epoch 90/100\n",
      "422/422 [==============================] - 7s 16ms/step - loss: 0.0155 - accuracy: 0.9952 - val_loss: 0.0411 - val_accuracy: 0.9912\n",
      "Epoch 91/100\n",
      "422/422 [==============================] - 7s 16ms/step - loss: 0.0155 - accuracy: 0.9949 - val_loss: 0.0394 - val_accuracy: 0.9917\n",
      "Epoch 92/100\n",
      "422/422 [==============================] - 7s 16ms/step - loss: 0.0150 - accuracy: 0.9952 - val_loss: 0.0392 - val_accuracy: 0.9918\n",
      "Epoch 93/100\n",
      "422/422 [==============================] - 7s 16ms/step - loss: 0.0153 - accuracy: 0.9952 - val_loss: 0.0382 - val_accuracy: 0.9917\n",
      "Epoch 94/100\n",
      "422/422 [==============================] - 7s 16ms/step - loss: 0.0156 - accuracy: 0.9952 - val_loss: 0.0397 - val_accuracy: 0.9910\n",
      "Epoch 95/100\n",
      "422/422 [==============================] - 7s 16ms/step - loss: 0.0161 - accuracy: 0.9951 - val_loss: 0.0385 - val_accuracy: 0.9920\n",
      "Epoch 96/100\n",
      "422/422 [==============================] - 7s 15ms/step - loss: 0.0138 - accuracy: 0.9954 - val_loss: 0.0390 - val_accuracy: 0.9912\n",
      "Epoch 97/100\n",
      "422/422 [==============================] - 7s 15ms/step - loss: 0.0137 - accuracy: 0.9960 - val_loss: 0.0401 - val_accuracy: 0.9917\n",
      "Epoch 98/100\n",
      "422/422 [==============================] - 7s 16ms/step - loss: 0.0160 - accuracy: 0.9950 - val_loss: 0.0421 - val_accuracy: 0.9917\n",
      "Epoch 99/100\n",
      "422/422 [==============================] - 6s 15ms/step - loss: 0.0144 - accuracy: 0.9953 - val_loss: 0.0395 - val_accuracy: 0.9923\n",
      "Epoch 100/100\n",
      "422/422 [==============================] - 7s 16ms/step - loss: 0.0140 - accuracy: 0.9956 - val_loss: 0.0426 - val_accuracy: 0.9922\n",
      "Time for training:   675.4385s\n"
     ]
    }
   ],
   "source": [
    "# Escribe el codigo aquí\n",
    "start_time = time.time()\n",
    "\n",
    "validation_portion = 0.1\n",
    "batch_size=128\n",
    "num_epochs = 100\n",
    "\n",
    "tensorboard_callback = keras.callbacks.TensorBoard(\n",
    "    log_dir=\"logs/mnist\", histogram_freq=1)\n",
    "\n",
    "history = mnist_model.fit(x=train_x, y=train_y, epochs=num_epochs, batch_size=batch_size, \\\n",
    "                            validation_split=validation_portion, shuffle=True,\n",
    "                            callbacks=[tensorboard_callback], verbose=1)\n",
    "\n",
    "end_time = time.time()\n",
    "print(\"Time for training: {:10.4f}s\".format(end_time - start_time))"
   ]
  },
  {
   "cell_type": "markdown",
   "metadata": {
    "id": "CEvODY4-Y9qg",
    "pycharm": {
     "name": "#%% md\n"
    }
   },
   "source": [
    "<font size=4 color='rosybrown'>\n",
    "    \n",
    "    \n",
    " #### Ejercicio 16"
   ]
  },
  {
   "cell_type": "markdown",
   "metadata": {
    "id": "RRhtIr0hY9qg",
    "pycharm": {
     "name": "#%% md\n"
    }
   },
   "source": [
    "<font size=4>\n",
    "\n",
    "Grafica el costo en función de la epoca para los conjuntos de entrenamiento y de validación."
   ]
  },
  {
   "cell_type": "code",
   "execution_count": 23,
   "metadata": {
    "ExecuteTime": {
     "end_time": "2020-11-25T01:04:19.728584Z",
     "start_time": "2020-11-25T01:04:19.724692Z"
    },
    "id": "n8yu0tc_Y9qg",
    "colab": {
     "base_uri": "https://localhost:8080/",
     "height": 409
    },
    "outputId": "4ba0fbcc-770d-4772-efc7-c71ff713e32b",
    "pycharm": {
     "name": "#%%\n"
    }
   },
   "outputs": [
    {
     "output_type": "display_data",
     "data": {
      "text/plain": [
       "<Figure size 576x432 with 1 Axes>"
      ],
      "image/png": "[encoded data removed]"
     },
     "metadata": {
      "needs_background": "light"
     }
    }
   ],
   "source": [
    "# Escribe el codigo aquí\n",
    "plt.figure(figsize=(8,6))\n",
    "\n",
    "plt.plot(history.history['loss'], color='red')\n",
    "plt.plot(history.history['val_loss'], color='blue')\n",
    "plt.title('Lr = 0.015, FF_Dropout: Inp = 0.50, hl_1 = 0.50, hl_2 = 0.50')\n",
    "plt.ylabel('Cost', size=16)\n",
    "plt.xlabel('Epoch',size=16)\n",
    "plt.legend(['Train', 'Validation'], loc='upper right', fontsize=16)\n",
    "plt.show()"
   ]
  },
  {
   "cell_type": "markdown",
   "metadata": {
    "id": "rCHIm232Y9qg",
    "pycharm": {
     "name": "#%% md\n"
    }
   },
   "source": [
    "<font size=4 color='rosybrown'>\n",
    "    \n",
    "    \n",
    " #### Ejercicio 17\n"
   ]
  },
  {
   "cell_type": "markdown",
   "metadata": {
    "id": "T5hi4B7_Y9qg",
    "pycharm": {
     "name": "#%% md\n"
    }
   },
   "source": [
    "<font size=4>\n",
    "\n",
    "Grafica el accuracy (la precisión del modelo) en función de la epoca para los conjuntos de entrenamiento y de validación."
   ]
  },
  {
   "cell_type": "code",
   "execution_count": 24,
   "metadata": {
    "ExecuteTime": {
     "end_time": "2020-11-25T01:04:19.728584Z",
     "start_time": "2020-11-25T01:04:19.724692Z"
    },
    "id": "NjsAXB44Y9qg",
    "colab": {
     "base_uri": "https://localhost:8080/",
     "height": 424
    },
    "outputId": "2efee0ea-6eb9-4614-a41c-3a918a7a5e87",
    "pycharm": {
     "name": "#%%\n"
    }
   },
   "outputs": [
    {
     "output_type": "display_data",
     "data": {
      "text/plain": [
       "<Figure size 576x432 with 1 Axes>"
      ],
      "image/png": "[encoded data removed]"
     },
     "metadata": {
      "needs_background": "light"
     }
    }
   ],
   "source": [
    "# Escribe el codigo aquí\n",
    "plt.figure(figsize=(8,6))\n",
    "\n",
    "plt.plot(history.history['accuracy'], color='red')\n",
    "plt.plot(history.history['val_accuracy'], color='blue')\n",
    "plt.title('Lr = 0.015, FF_Dropout: Inp = 0.50, hl1 = 0.50, hl2 = 0.50, \\n Acc=0.755')\n",
    "plt.ylabel('Accuracy', size=16)\n",
    "plt.xlabel('Epoch', size=16)\n",
    "plt.legend(['Train', 'Validation'], loc='lower right', fontsize=16)\n",
    "plt.show()"
   ]
  },
  {
   "cell_type": "markdown",
   "metadata": {
    "id": "Yi-cetTSY9qg",
    "pycharm": {
     "name": "#%% md\n"
    }
   },
   "source": [
    "<font size=4 color='rosybrown'>\n",
    "    \n",
    "    \n",
    " #### Ejercicio 18"
   ]
  },
  {
   "cell_type": "markdown",
   "metadata": {
    "id": "GIOVWZFpY9qh",
    "pycharm": {
     "name": "#%% md\n"
    }
   },
   "source": [
    "<font size=4>\n",
    "\n",
    "Evalua el modelo en el conjunto de prueba. Usa el métodod evaluate()"
   ]
  },
  {
   "cell_type": "code",
   "execution_count": 25,
   "metadata": {
    "ExecuteTime": {
     "end_time": "2020-11-25T01:04:19.728584Z",
     "start_time": "2020-11-25T01:04:19.724692Z"
    },
    "id": "E4eg4dkGY9qh",
    "colab": {
     "base_uri": "https://localhost:8080/"
    },
    "outputId": "5bd53c59-2cdd-40a7-ada0-d0a94a21ca4f",
    "pycharm": {
     "name": "#%%\n"
    }
   },
   "outputs": [
    {
     "output_type": "stream",
     "name": "stdout",
     "text": [
      "313/313 [==============================] - 1s 4ms/step - loss: 0.0407 - accuracy: 0.9892\n",
      "Loss = 0.040661219507455826\n",
      "Test Accuracy = 0.9891999959945679\n"
     ]
    }
   ],
   "source": [
    "# Escribe el codigo aquí\n",
    "evaluations = mnist_model.evaluate(x = test_x, y = test_y)\n",
    "\n",
    "print (\"Loss = \" + str(evaluations[0]))\n",
    "print (\"Test Accuracy = \" + str(evaluations[1]))"
   ]
  },
  {
   "cell_type": "markdown",
   "metadata": {
    "id": "3mDlVgsYY9qh",
    "pycharm": {
     "name": "#%% md\n"
    }
   },
   "source": [
    "<font size = 5 color=\"cornflowerblue\">\n",
    "\n",
    "Parte III: **Inferencia**"
   ]
  },
  {
   "cell_type": "markdown",
   "metadata": {
    "id": "6kcu9GhkY9qh",
    "pycharm": {
     "name": "#%% md\n"
    }
   },
   "source": [
    "<font size=4 color='rosybrown'>\n",
    "    \n",
    "    \n",
    "#### Ejercicio 19"
   ]
  },
  {
   "cell_type": "markdown",
   "metadata": {
    "id": "s6DHJOg2Y9qh",
    "pycharm": {
     "name": "#%% md\n"
    }
   },
   "source": [
    "<font size=4>\n",
    "\n",
    "Realiza predicciones sobre el conjunto de prueba. Usa el método predict()\n",
    "\n",
    "Muestra algun ejemplo, es decir dado un input tomado del conjunto test_x muestra cuál es la inferencia realizada por la red neuronal y cual es la etiqueta real (la correspondiente test_y)."
   ]
  },
  {
   "cell_type": "code",
   "execution_count": 26,
   "metadata": {
    "ExecuteTime": {
     "end_time": "2020-11-25T01:04:19.728584Z",
     "start_time": "2020-11-25T01:04:19.724692Z"
    },
    "id": "4aZ76pBMY9qh",
    "colab": {
     "base_uri": "https://localhost:8080/"
    },
    "outputId": "d4a8d6fb-2746-4fdb-8cf5-038512461ad8",
    "pycharm": {
     "name": "#%%\n"
    }
   },
   "outputs": [
    {
     "output_type": "stream",
     "name": "stdout",
     "text": [
      "313/313 [==============================] - 1s 2ms/step\n"
     ]
    }
   ],
   "source": [
    "# Escribe el codigo aquí\n",
    "predictions = mnist_model.predict(test_x)"
   ]
  },
  {
   "cell_type": "code",
   "source": [
    "sample = 15"
   ],
   "metadata": {
    "id": "iZh-L-GWefz_",
    "pycharm": {
     "name": "#%%\n"
    }
   },
   "execution_count": 27,
   "outputs": []
  },
  {
   "cell_type": "code",
   "source": [
    "prediction = np.argmax(predictions[sample])\n",
    "plt.imshow(test_x[sample].reshape((28, 28)),cmap='gray')\n",
    "print('the sample', sample,'corresponds to:',np.squeeze(train_y[sample]))\n"
   ],
   "metadata": {
    "colab": {
     "base_uri": "https://localhost:8080/",
     "height": 283
    },
    "id": "cslds-W3eluW",
    "outputId": "4f0e0d82-4cc1-462e-82ca-aa11b0006002",
    "pycharm": {
     "name": "#%%\n"
    }
   },
   "execution_count": 28,
   "outputs": [
    {
     "output_type": "stream",
     "name": "stdout",
     "text": [
      "the sample 15 corresponds to: 7\n"
     ]
    },
    {
     "output_type": "display_data",
     "data": {
      "text/plain": [
       "<Figure size 432x288 with 1 Axes>"
      ],
      "image/png": "[encoded data removed]"
     },
     "metadata": {
      "needs_background": "light"
     }
    }
   ]
  }
 ],
 "metadata": {
  "kernelspec": {
   "display_name": "Python 3 (ipykernel)",
   "language": "python",
   "name": "python3"
  },
  "language_info": {
   "codemirror_mode": {
    "name": "ipython",
    "version": 3
   },
   "file_extension": ".py",
   "mimetype": "text/x-python",
   "name": "python",
   "nbconvert_exporter": "python",
   "pygments_lexer": "ipython3",
   "version": "3.9.12"
  },
  "colab": {
   "provenance": []
  },
  "accelerator": "GPU",
  "gpuClass": "standard"
 },
 "nbformat": 4,
 "nbformat_minor": 0
}