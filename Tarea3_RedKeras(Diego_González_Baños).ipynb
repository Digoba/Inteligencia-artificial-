{
 "cells": [
  {
   "cell_type": "markdown",
   "metadata": {
    "ExecuteTime": {
     "end_time": "2020-03-04T01:21:08.810200Z",
     "start_time": "2020-03-04T01:21:08.804251Z"
    }
   },
   "source": [
    "<font size=5 color='blue'>\n",
    "\n",
    "## <center> Tarea 3. Mi primera red neuronal con Keras </center>\n",
    "    \n",
    "<font size=4 color='purple'>\n",
    "    \n",
    "## <center> Diego González Baños </center>"
   ]
  },
  {
   "cell_type": "markdown",
   "metadata": {},
   "source": [
    "<font size=4>El objetivo de esta tarea es únicamente la de mecanizar lo visto en la clase 5, haciendo cambios ligeros a la definición de la red neuronal, que tendrás que hacer tú a mano. De igual manera, queremos que domines los métodos de Pandas que se han trabajado hasta el momento. \n",
    "    \n",
    "<font size=4>Sigue las instrucciones al pie de la letra. Todo el material que se te preguntará en esta tarea viene en las semanas 4 y 5. Recuerda instalar Tensorflow para poder realizar este trabajo"
   ]
  },
  {
   "cell_type": "markdown",
   "metadata": {},
   "source": [
    "<font size=5 color='blue'>\n",
    "Información sobre el problema a resolver"
   ]
  },
  {
   "cell_type": "markdown",
   "metadata": {},
   "source": [
    "<font size=4>\n",
    "\n",
    "Evolución de la enfermedad de pacientes con Diabetes Mellitus despues de un año.\n",
    "    \n",
    "En el presente trabajo, la diabetes la caracterizamos con los siguientes diez rasgos: edad, sexo, índice de masa corporal, presión arterial promedio y seis mediciones de suero sanguíneo:\n",
    "\n",
    "     Colesterol Total \n",
    "     Baja densidad de liporoteinas\n",
    "     Alta densidad de lipoproteinas\n",
    "     Triglicéridos\n",
    "     Concentración de Lamorigina\n",
    "     Glucosa"
   ]
  },
  {
   "cell_type": "markdown",
   "metadata": {},
   "source": [
    "<font size=5 color='blue'>\n",
    "    \n",
    "Cuantificación de esta información"
   ]
  },
  {
   "cell_type": "markdown",
   "metadata": {},
   "source": [
    "<font size=4>\n",
    "\n",
    "Se tienen información de 442 pacientes (m = 442). La respuesta de interés, Y, es una medida cuantitativa de la progresión de la enfermedad un año después del inicio del estudio. Los valores de Y varían entre 25 y 346\n",
    "\n",
    "Fuente de la información: [diabetes data](https://www4.stat.ncsu.edu/~boos/var.select/diabetes.html)    Artículo original: [Least-Angle-Regression_2004](./Literatura/Least-Angle-Regression_2004.pdf)"
   ]
  },
  {
   "cell_type": "code",
   "execution_count": 1,
   "metadata": {
    "ExecuteTime": {
     "end_time": "2020-10-19T12:30:23.916483Z",
     "start_time": "2020-10-19T12:30:23.496513Z"
    }
   },
   "outputs": [
    {
     "name": "stderr",
     "output_type": "stream",
     "text": [
      "2022-10-03 23:29:42.901100: I tensorflow/core/platform/cpu_feature_guard.cc:193] This TensorFlow binary is optimized with oneAPI Deep Neural Network Library (oneDNN) to use the following CPU instructions in performance-critical operations:  AVX2 FMA\n",
      "To enable them in other operations, rebuild TensorFlow with the appropriate compiler flags.\n"
     ]
    }
   ],
   "source": [
    "import tensorflow as tf\n",
    "from tensorflow import keras\n",
    "from tensorflow.keras.models import Sequential\n",
    "from tensorflow.keras.layers import Input, Dense, Flatten\n",
    "from tensorflow.keras.layers import Activation\n",
    "from tensorflow.keras.optimizers import SGD, Adam\n",
    "from tensorflow.keras.models import Model\n",
    "from tensorflow.keras.utils import plot_model\n",
    "from tensorflow.keras import initializers\n",
    "\n",
    "import numpy as np\n",
    "import pandas as pd\n",
    "import matplotlib.pyplot as plt\n",
    "import networkx as nx\n",
    "import time\n",
    "\n",
    "np.random.seed(1)"
   ]
  },
  {
   "cell_type": "markdown",
   "metadata": {},
   "source": [
    "<font size=4>1. Importa el archivo *diabetes.csv* como un DataFrame de Pandas. De igual manera, muestra los primeros 5 registros de dicho dataset."
   ]
  },
  {
   "cell_type": "code",
   "execution_count": 2,
   "metadata": {
    "ExecuteTime": {
     "end_time": "2020-10-19T12:30:23.924252Z",
     "start_time": "2020-10-19T12:30:23.918002Z"
    }
   },
   "outputs": [],
   "source": [
    "df = pd.read_csv('diabetes.csv', sep ='\\t')"
   ]
  },
  {
   "cell_type": "markdown",
   "metadata": {},
   "source": [
    "<font size=4>2. Muestra la estadística general de las columnas que componen el dataset. Con esta información, responde a las siguientes preguntas:\n",
    "    \n",
    "    * ¿Cúal es la edad promedio de los pacientes del estudio?\n",
    "    48 años\n",
    "    * ¿Cúal es el índice de masa corporal máximo registrado?\n",
    "    42.20\n",
    "    * ¿Qué edad tiene el paciente más joven del estudio?\n",
    "    19 años"
   ]
  },
  {
   "cell_type": "code",
   "execution_count": 3,
   "metadata": {},
   "outputs": [
    {
     "data": {
      "text/html": [
       "<div>\n",
       "<style scoped>\n",
       "    .dataframe tbody tr th:only-of-type {\n",
       "        vertical-align: middle;\n",
       "    }\n",
       "\n",
       "    .dataframe tbody tr th {\n",
       "        vertical-align: top;\n",
       "    }\n",
       "\n",
       "    .dataframe thead th {\n",
       "        text-align: right;\n",
       "    }\n",
       "</style>\n",
       "<table border=\"1\" class=\"dataframe\">\n",
       "  <thead>\n",
       "    <tr style=\"text-align: right;\">\n",
       "      <th></th>\n",
       "      <th>AGE</th>\n",
       "      <th>SEX</th>\n",
       "      <th>BMI</th>\n",
       "      <th>BP</th>\n",
       "      <th>S1</th>\n",
       "      <th>S2</th>\n",
       "      <th>S3</th>\n",
       "      <th>S4</th>\n",
       "      <th>S5</th>\n",
       "      <th>S6</th>\n",
       "      <th>Y</th>\n",
       "    </tr>\n",
       "  </thead>\n",
       "  <tbody>\n",
       "    <tr>\n",
       "      <th>count</th>\n",
       "      <td>442.000000</td>\n",
       "      <td>442.000000</td>\n",
       "      <td>442.000000</td>\n",
       "      <td>442.000000</td>\n",
       "      <td>442.000000</td>\n",
       "      <td>442.000000</td>\n",
       "      <td>442.000000</td>\n",
       "      <td>442.000000</td>\n",
       "      <td>442.000000</td>\n",
       "      <td>442.000000</td>\n",
       "      <td>442.000000</td>\n",
       "    </tr>\n",
       "    <tr>\n",
       "      <th>mean</th>\n",
       "      <td>48.518100</td>\n",
       "      <td>1.468326</td>\n",
       "      <td>26.375792</td>\n",
       "      <td>94.647014</td>\n",
       "      <td>189.140271</td>\n",
       "      <td>115.439140</td>\n",
       "      <td>49.788462</td>\n",
       "      <td>4.070249</td>\n",
       "      <td>4.641411</td>\n",
       "      <td>91.260181</td>\n",
       "      <td>152.133484</td>\n",
       "    </tr>\n",
       "    <tr>\n",
       "      <th>std</th>\n",
       "      <td>13.109028</td>\n",
       "      <td>0.499561</td>\n",
       "      <td>4.418122</td>\n",
       "      <td>13.831283</td>\n",
       "      <td>34.608052</td>\n",
       "      <td>30.413081</td>\n",
       "      <td>12.934202</td>\n",
       "      <td>1.290450</td>\n",
       "      <td>0.522391</td>\n",
       "      <td>11.496335</td>\n",
       "      <td>77.093005</td>\n",
       "    </tr>\n",
       "    <tr>\n",
       "      <th>min</th>\n",
       "      <td>19.000000</td>\n",
       "      <td>1.000000</td>\n",
       "      <td>18.000000</td>\n",
       "      <td>62.000000</td>\n",
       "      <td>97.000000</td>\n",
       "      <td>41.600000</td>\n",
       "      <td>22.000000</td>\n",
       "      <td>2.000000</td>\n",
       "      <td>3.258100</td>\n",
       "      <td>58.000000</td>\n",
       "      <td>25.000000</td>\n",
       "    </tr>\n",
       "    <tr>\n",
       "      <th>25%</th>\n",
       "      <td>38.250000</td>\n",
       "      <td>1.000000</td>\n",
       "      <td>23.200000</td>\n",
       "      <td>84.000000</td>\n",
       "      <td>164.250000</td>\n",
       "      <td>96.050000</td>\n",
       "      <td>40.250000</td>\n",
       "      <td>3.000000</td>\n",
       "      <td>4.276700</td>\n",
       "      <td>83.250000</td>\n",
       "      <td>87.000000</td>\n",
       "    </tr>\n",
       "    <tr>\n",
       "      <th>50%</th>\n",
       "      <td>50.000000</td>\n",
       "      <td>1.000000</td>\n",
       "      <td>25.700000</td>\n",
       "      <td>93.000000</td>\n",
       "      <td>186.000000</td>\n",
       "      <td>113.000000</td>\n",
       "      <td>48.000000</td>\n",
       "      <td>4.000000</td>\n",
       "      <td>4.620050</td>\n",
       "      <td>91.000000</td>\n",
       "      <td>140.500000</td>\n",
       "    </tr>\n",
       "    <tr>\n",
       "      <th>75%</th>\n",
       "      <td>59.000000</td>\n",
       "      <td>2.000000</td>\n",
       "      <td>29.275000</td>\n",
       "      <td>105.000000</td>\n",
       "      <td>209.750000</td>\n",
       "      <td>134.500000</td>\n",
       "      <td>57.750000</td>\n",
       "      <td>5.000000</td>\n",
       "      <td>4.997200</td>\n",
       "      <td>98.000000</td>\n",
       "      <td>211.500000</td>\n",
       "    </tr>\n",
       "    <tr>\n",
       "      <th>max</th>\n",
       "      <td>79.000000</td>\n",
       "      <td>2.000000</td>\n",
       "      <td>42.200000</td>\n",
       "      <td>133.000000</td>\n",
       "      <td>301.000000</td>\n",
       "      <td>242.400000</td>\n",
       "      <td>99.000000</td>\n",
       "      <td>9.090000</td>\n",
       "      <td>6.107000</td>\n",
       "      <td>124.000000</td>\n",
       "      <td>346.000000</td>\n",
       "    </tr>\n",
       "  </tbody>\n",
       "</table>\n",
       "</div>"
      ],
      "text/plain": [
       "              AGE         SEX         BMI          BP          S1          S2  \\\n",
       "count  442.000000  442.000000  442.000000  442.000000  442.000000  442.000000   \n",
       "mean    48.518100    1.468326   26.375792   94.647014  189.140271  115.439140   \n",
       "std     13.109028    0.499561    4.418122   13.831283   34.608052   30.413081   \n",
       "min     19.000000    1.000000   18.000000   62.000000   97.000000   41.600000   \n",
       "25%     38.250000    1.000000   23.200000   84.000000  164.250000   96.050000   \n",
       "50%     50.000000    1.000000   25.700000   93.000000  186.000000  113.000000   \n",
       "75%     59.000000    2.000000   29.275000  105.000000  209.750000  134.500000   \n",
       "max     79.000000    2.000000   42.200000  133.000000  301.000000  242.400000   \n",
       "\n",
       "               S3          S4          S5          S6           Y  \n",
       "count  442.000000  442.000000  442.000000  442.000000  442.000000  \n",
       "mean    49.788462    4.070249    4.641411   91.260181  152.133484  \n",
       "std     12.934202    1.290450    0.522391   11.496335   77.093005  \n",
       "min     22.000000    2.000000    3.258100   58.000000   25.000000  \n",
       "25%     40.250000    3.000000    4.276700   83.250000   87.000000  \n",
       "50%     48.000000    4.000000    4.620050   91.000000  140.500000  \n",
       "75%     57.750000    5.000000    4.997200   98.000000  211.500000  \n",
       "max     99.000000    9.090000    6.107000  124.000000  346.000000  "
      ]
     },
     "execution_count": 3,
     "metadata": {},
     "output_type": "execute_result"
    }
   ],
   "source": [
    "df.describe()"
   ]
  },
  {
   "cell_type": "markdown",
   "metadata": {},
   "source": [
    "<font size=4>3. Elabora los histogramas de cada uno de los rasgos con los que trabajarás en este problema"
   ]
  },
  {
   "cell_type": "code",
   "execution_count": 4,
   "metadata": {},
   "outputs": [
    {
     "data": {
      "image/png": "[encoded data removed]",
      "text/plain": [
       "<Figure size 1440x576 with 4 Axes>"
      ]
     },
     "metadata": {
      "needs_background": "light"
     },
     "output_type": "display_data"
    }
   ],
   "source": [
    "plt.figure(figsize=(20,8)) \n",
    "\n",
    "ax1 = plt.subplot(2,4,1)\n",
    "ax2 = plt.subplot(2,4,2)\n",
    "ax3 = plt.subplot(2,4,3)\n",
    "ax4 = plt.subplot(2,4,4)\n",
    "\n",
    "ax1.hist(df.AGE, bins=30, color='green',edgecolor='purple', alpha=0.5)\n",
    "ax1.set_xlabel('Age (years)', size=15)\n",
    "ax1.set_ylabel('Frequency', size=15)\n",
    "\n",
    "ax2.hist(df.SEX, bins=30, color='orange',edgecolor='purple', alpha=0.5)\n",
    "ax2.set_xlabel('Sex', size=15)\n",
    "\n",
    "ax3.hist(df.BMI, bins=30, color='red',edgecolor='purple', alpha=0.5)\n",
    "ax3.set_xlabel('Body_mass_index', size=15)\n",
    "\n",
    "ax4.hist(df.BP, bins=30, color='blue',edgecolor='purple', alpha=0.5)\n",
    "ax4.set_xlabel('Average_blood_pressure', size=15);"
   ]
  },
  {
   "cell_type": "markdown",
   "metadata": {
    "ExecuteTime": {
     "end_time": "2020-10-13T20:21:23.071130Z",
     "start_time": "2020-10-13T20:21:23.062454Z"
    }
   },
   "source": [
    "<font size=4>4. Elimina cualquier posible correlación presente entre los registros del estudio de diabetes"
   ]
  },
  {
   "cell_type": "code",
   "execution_count": 5,
   "metadata": {},
   "outputs": [],
   "source": [
    "df = df.sample(frac=1)"
   ]
  },
  {
   "cell_type": "markdown",
   "metadata": {},
   "source": [
    "<font size=4>5. Divide el dataset en dos subconjuntos: uno para aprender y otro para realizar inferencias. El conjunto de aprendizaje deberá contener el 90% de los registros del dataset. Imprime también las dimensiones de cada conjunto creado en este paso"
   ]
  },
  {
   "cell_type": "code",
   "execution_count": 6,
   "metadata": {},
   "outputs": [],
   "source": [
    "test_ratio = 0.1\n",
    "\n",
    "train_ratio = int((1.0-test_ratio)*len(df.values[:,:]))\n",
    "\n",
    "df_train = df.iloc[0:train_ratio,:]\n",
    "df_test  = df.iloc[train_ratio:,:]"
   ]
  },
  {
   "cell_type": "code",
   "execution_count": 7,
   "metadata": {},
   "outputs": [
    {
     "name": "stdout",
     "output_type": "stream",
     "text": [
      "(397, 11)\n",
      "(45, 11)\n"
     ]
    }
   ],
   "source": [
    "#dimensiones de cada conjunto\n",
    "print(df_train.shape)\n",
    "print(df_test.shape)"
   ]
  },
  {
   "cell_type": "markdown",
   "metadata": {},
   "source": [
    "<font size=4>6. Normaliza los conjuntos de entrenamiento y de prueba, utilizando la estadística del conjunto de entrenamiento."
   ]
  },
  {
   "cell_type": "code",
   "execution_count": 8,
   "metadata": {},
   "outputs": [
    {
     "data": {
      "text/html": [
       "<div>\n",
       "<style scoped>\n",
       "    .dataframe tbody tr th:only-of-type {\n",
       "        vertical-align: middle;\n",
       "    }\n",
       "\n",
       "    .dataframe tbody tr th {\n",
       "        vertical-align: top;\n",
       "    }\n",
       "\n",
       "    .dataframe thead th {\n",
       "        text-align: right;\n",
       "    }\n",
       "</style>\n",
       "<table border=\"1\" class=\"dataframe\">\n",
       "  <thead>\n",
       "    <tr style=\"text-align: right;\">\n",
       "      <th></th>\n",
       "      <th>AGE</th>\n",
       "      <th>SEX</th>\n",
       "      <th>BMI</th>\n",
       "      <th>BP</th>\n",
       "      <th>S1</th>\n",
       "      <th>S2</th>\n",
       "      <th>S3</th>\n",
       "      <th>S4</th>\n",
       "      <th>S5</th>\n",
       "      <th>S6</th>\n",
       "      <th>Y</th>\n",
       "    </tr>\n",
       "  </thead>\n",
       "  <tbody>\n",
       "    <tr>\n",
       "      <th>246</th>\n",
       "      <td>0.880549</td>\n",
       "      <td>-0.923573</td>\n",
       "      <td>-0.678927</td>\n",
       "      <td>-1.292722</td>\n",
       "      <td>1.678453</td>\n",
       "      <td>1.072260</td>\n",
       "      <td>1.179208</td>\n",
       "      <td>-0.202277</td>\n",
       "      <td>0.963141</td>\n",
       "      <td>-1.241175</td>\n",
       "      <td>-0.960557</td>\n",
       "    </tr>\n",
       "    <tr>\n",
       "      <th>425</th>\n",
       "      <td>-1.627292</td>\n",
       "      <td>-0.923573</td>\n",
       "      <td>-0.858406</td>\n",
       "      <td>-1.702184</td>\n",
       "      <td>-2.097449</td>\n",
       "      <td>-2.351121</td>\n",
       "      <td>0.482966</td>\n",
       "      <td>-1.597924</td>\n",
       "      <td>-0.422665</td>\n",
       "      <td>-1.065445</td>\n",
       "      <td>0.009443</td>\n",
       "    </tr>\n",
       "    <tr>\n",
       "      <th>293</th>\n",
       "      <td>-1.475302</td>\n",
       "      <td>-0.923573</td>\n",
       "      <td>1.923531</td>\n",
       "      <td>0.271467</td>\n",
       "      <td>0.439035</td>\n",
       "      <td>0.895527</td>\n",
       "      <td>0.018804</td>\n",
       "      <td>0.014824</td>\n",
       "      <td>-1.148812</td>\n",
       "      <td>-0.011066</td>\n",
       "      <td>0.638633</td>\n",
       "    </tr>\n",
       "    <tr>\n",
       "      <th>31</th>\n",
       "      <td>-0.487365</td>\n",
       "      <td>-0.923573</td>\n",
       "      <td>-1.374411</td>\n",
       "      <td>-1.702184</td>\n",
       "      <td>-0.800383</td>\n",
       "      <td>-1.113991</td>\n",
       "      <td>1.256568</td>\n",
       "      <td>-1.597924</td>\n",
       "      <td>-0.779650</td>\n",
       "      <td>-0.889715</td>\n",
       "      <td>-1.209611</td>\n",
       "    </tr>\n",
       "    <tr>\n",
       "      <th>359</th>\n",
       "      <td>0.804554</td>\n",
       "      <td>1.080025</td>\n",
       "      <td>0.106298</td>\n",
       "      <td>0.680929</td>\n",
       "      <td>0.150798</td>\n",
       "      <td>0.371874</td>\n",
       "      <td>-0.522717</td>\n",
       "      <td>0.728154</td>\n",
       "      <td>0.321844</td>\n",
       "      <td>1.306908</td>\n",
       "      <td>2.093633</td>\n",
       "    </tr>\n",
       "  </tbody>\n",
       "</table>\n",
       "</div>"
      ],
      "text/plain": [
       "          AGE       SEX       BMI        BP        S1        S2        S3  \\\n",
       "246  0.880549 -0.923573 -0.678927 -1.292722  1.678453  1.072260  1.179208   \n",
       "425 -1.627292 -0.923573 -0.858406 -1.702184 -2.097449 -2.351121  0.482966   \n",
       "293 -1.475302 -0.923573  1.923531  0.271467  0.439035  0.895527  0.018804   \n",
       "31  -0.487365 -0.923573 -1.374411 -1.702184 -0.800383 -1.113991  1.256568   \n",
       "359  0.804554  1.080025  0.106298  0.680929  0.150798  0.371874 -0.522717   \n",
       "\n",
       "           S4        S5        S6         Y  \n",
       "246 -0.202277  0.963141 -1.241175 -0.960557  \n",
       "425 -1.597924 -0.422665 -1.065445  0.009443  \n",
       "293  0.014824 -1.148812 -0.011066  0.638633  \n",
       "31  -1.597924 -0.779650 -0.889715 -1.209611  \n",
       "359  0.728154  0.321844  1.306908  2.093633  "
      ]
     },
     "execution_count": 8,
     "metadata": {},
     "output_type": "execute_result"
    }
   ],
   "source": [
    "mu = df_train.mean()\n",
    "sigma = df_train.std()\n",
    "df_train_norm = (df_train - mu)/ sigma\n",
    "df_train_norm.head()"
   ]
  },
  {
   "cell_type": "code",
   "execution_count": 9,
   "metadata": {},
   "outputs": [
    {
     "data": {
      "text/html": [
       "<div>\n",
       "<style scoped>\n",
       "    .dataframe tbody tr th:only-of-type {\n",
       "        vertical-align: middle;\n",
       "    }\n",
       "\n",
       "    .dataframe tbody tr th {\n",
       "        vertical-align: top;\n",
       "    }\n",
       "\n",
       "    .dataframe thead th {\n",
       "        text-align: right;\n",
       "    }\n",
       "</style>\n",
       "<table border=\"1\" class=\"dataframe\">\n",
       "  <thead>\n",
       "    <tr style=\"text-align: right;\">\n",
       "      <th></th>\n",
       "      <th>AGE</th>\n",
       "      <th>SEX</th>\n",
       "      <th>BMI</th>\n",
       "      <th>BP</th>\n",
       "      <th>S1</th>\n",
       "      <th>S2</th>\n",
       "      <th>S3</th>\n",
       "      <th>S4</th>\n",
       "      <th>S5</th>\n",
       "      <th>S6</th>\n",
       "      <th>Y</th>\n",
       "    </tr>\n",
       "  </thead>\n",
       "  <tbody>\n",
       "    <tr>\n",
       "      <th>410</th>\n",
       "      <td>-0.183384</td>\n",
       "      <td>1.080025</td>\n",
       "      <td>-0.589187</td>\n",
       "      <td>0.175420</td>\n",
       "      <td>1.015508</td>\n",
       "      <td>0.784251</td>\n",
       "      <td>-0.600078</td>\n",
       "      <td>0.728154</td>\n",
       "      <td>1.408068</td>\n",
       "      <td>-0.889715</td>\n",
       "      <td>0.756606</td>\n",
       "    </tr>\n",
       "    <tr>\n",
       "      <th>216</th>\n",
       "      <td>0.272587</td>\n",
       "      <td>1.080025</td>\n",
       "      <td>0.734477</td>\n",
       "      <td>1.042007</td>\n",
       "      <td>1.130803</td>\n",
       "      <td>1.556639</td>\n",
       "      <td>-1.451040</td>\n",
       "      <td>3.054233</td>\n",
       "      <td>0.974545</td>\n",
       "      <td>1.043313</td>\n",
       "      <td>1.267822</td>\n",
       "    </tr>\n",
       "    <tr>\n",
       "      <th>264</th>\n",
       "      <td>0.728558</td>\n",
       "      <td>1.080025</td>\n",
       "      <td>0.577432</td>\n",
       "      <td>-0.691166</td>\n",
       "      <td>-0.944502</td>\n",
       "      <td>-0.197598</td>\n",
       "      <td>-1.064239</td>\n",
       "      <td>-0.047205</td>\n",
       "      <td>-1.253375</td>\n",
       "      <td>-0.450391</td>\n",
       "      <td>-0.082314</td>\n",
       "    </tr>\n",
       "    <tr>\n",
       "      <th>209</th>\n",
       "      <td>0.804554</td>\n",
       "      <td>1.080025</td>\n",
       "      <td>-0.387272</td>\n",
       "      <td>1.403084</td>\n",
       "      <td>-1.059796</td>\n",
       "      <td>-0.341603</td>\n",
       "      <td>-1.605760</td>\n",
       "      <td>0.728154</td>\n",
       "      <td>-0.244655</td>\n",
       "      <td>-0.274661</td>\n",
       "      <td>-0.973665</td>\n",
       "    </tr>\n",
       "    <tr>\n",
       "      <th>316</th>\n",
       "      <td>0.348582</td>\n",
       "      <td>1.080025</td>\n",
       "      <td>0.285778</td>\n",
       "      <td>0.030989</td>\n",
       "      <td>0.035503</td>\n",
       "      <td>-0.439788</td>\n",
       "      <td>-0.677438</td>\n",
       "      <td>0.728154</td>\n",
       "      <td>1.597094</td>\n",
       "      <td>0.867583</td>\n",
       "      <td>0.900795</td>\n",
       "    </tr>\n",
       "  </tbody>\n",
       "</table>\n",
       "</div>"
      ],
      "text/plain": [
       "          AGE       SEX       BMI        BP        S1        S2        S3  \\\n",
       "410 -0.183384  1.080025 -0.589187  0.175420  1.015508  0.784251 -0.600078   \n",
       "216  0.272587  1.080025  0.734477  1.042007  1.130803  1.556639 -1.451040   \n",
       "264  0.728558  1.080025  0.577432 -0.691166 -0.944502 -0.197598 -1.064239   \n",
       "209  0.804554  1.080025 -0.387272  1.403084 -1.059796 -0.341603 -1.605760   \n",
       "316  0.348582  1.080025  0.285778  0.030989  0.035503 -0.439788 -0.677438   \n",
       "\n",
       "           S4        S5        S6         Y  \n",
       "410  0.728154  1.408068 -0.889715  0.756606  \n",
       "216  3.054233  0.974545  1.043313  1.267822  \n",
       "264 -0.047205 -1.253375 -0.450391 -0.082314  \n",
       "209  0.728154 -0.244655 -0.274661 -0.973665  \n",
       "316  0.728154  1.597094  0.867583  0.900795  "
      ]
     },
     "execution_count": 9,
     "metadata": {},
     "output_type": "execute_result"
    }
   ],
   "source": [
    "df_test_norm = (df_test - mu) / sigma\n",
    "df_test_norm.head()"
   ]
  },
  {
   "cell_type": "markdown",
   "metadata": {},
   "source": [
    "<font size=4>7. Convierte los valores normalizados de cada conjunto en arreglos de Numpy. Define dos variables para las X y las Y del conjunto de entrenamiento, y lo mismo para el conjunto test."
   ]
  },
  {
   "cell_type": "code",
   "execution_count": 10,
   "metadata": {},
   "outputs": [],
   "source": [
    "train_x = df_train_norm.values[:,:-1]\n",
    "train_y = df_train_norm.values[:,-1:]"
   ]
  },
  {
   "cell_type": "code",
   "execution_count": 11,
   "metadata": {},
   "outputs": [],
   "source": [
    "test_x = df_test_norm.values[:,:-1]\n",
    "test_y = df_test_norm.values[:,-1:]"
   ]
  },
  {
   "cell_type": "code",
   "execution_count": 12,
   "metadata": {},
   "outputs": [
    {
     "name": "stdout",
     "output_type": "stream",
     "text": [
      "(397, 10)\n",
      "(397, 1)\n",
      "(45, 10)\n",
      "(45, 1)\n"
     ]
    }
   ],
   "source": [
    "print(train_x.shape)\n",
    "print(train_y.shape)\n",
    "print(test_x.shape)\n",
    "print(test_y.shape)"
   ]
  },
  {
   "cell_type": "markdown",
   "metadata": {},
   "source": [
    "<font size=5 color='blue'>\n",
    "\n",
    "# <center> Artificial Neural Networks </center>\n",
    "\n",
    "\n"
   ]
  },
  {
   "cell_type": "markdown",
   "metadata": {},
   "source": [
    "<font size=5 color='blue'>\n",
    "    \n",
    "Definición de la arquitectura de la red neuronal."
   ]
  },
  {
   "cell_type": "code",
   "execution_count": 13,
   "metadata": {
    "ExecuteTime": {
     "end_time": "2020-10-19T12:30:27.253736Z",
     "start_time": "2020-10-19T12:30:27.068319Z"
    }
   },
   "outputs": [],
   "source": [
    "import networkx as nx\n",
    "\n",
    "class Network(object):\n",
    "    \n",
    "    def  __init__ (self,sizes):\n",
    "        self.num_layers = len(sizes)\n",
    "        print(\"It has\", self.num_layers, \"layers,\")\n",
    "        self.sizes = sizes\n",
    "        print(\"with the following number of nodes per layer\",self.sizes)\n",
    "        self.biases = [np.random.randn(y, 1) for y in sizes[1:]]\n",
    "        self.weights = [np.random.randn(y, x)\n",
    "                        for x, y in zip(sizes[:-1], sizes[1:])]\n",
    "        \n",
    "    def feedforward(self, x_of_sample):\n",
    "        \"\"\"Return the output of the network F(x_of_sample) \"\"\"        \n",
    "        for b, w in zip(self.biases, self.weights):\n",
    "            x_of_sample = sigmoid(np.dot(w, x_of_sample)+b)\n",
    "        return x_of_sample\n",
    "    \n",
    "    def graph(self,sizes):\n",
    "        a=[]\n",
    "        ps={}\n",
    "        Q = nx.Graph()\n",
    "        for i in range(len(sizes)):\n",
    "            Qi=nx.Graph()    \n",
    "            n=sizes[i]\n",
    "            nodos=np.arange(n)\n",
    "            Qi.add_nodes_from(nodos)\n",
    "            l_i=Qi.nodes\n",
    "            Q = nx.union(Q, Qi, rename = (None, 'Q%i-'%i))\n",
    "            if len(l_i)==1:\n",
    "                ps['Q%i-0'%i]=[i/(len(sizes)), 1/2]\n",
    "            else:\n",
    "                for j in range(len(l_i)+1):\n",
    "                    ps['Q%i-%i'%(i,j)]=[i/(len(sizes)),(1/(len(l_i)*len(l_i)))+(j/(len(l_i)))]\n",
    "            a.insert(i,Qi)\n",
    "        for i in range(len(a)-1):\n",
    "            for j in range(len(a[i])):\n",
    "                for k in range(len(a[i+1])):\n",
    "                    Q.add_edge('Q%i-%i' %(i,j),'Q%i-%i' %(i+1,k))\n",
    "        nx.draw(Q, pos = ps)\n",
    "                "
   ]
  },
  {
   "cell_type": "markdown",
   "metadata": {},
   "source": [
    "<font size=4>8. Utilizando la clase Network de la celda anterior, realiza el esquema de una red neuronal feed forward, que tenga las siguientes características:\n",
    "    \n",
    "    * 10 neuronas en la capa de entrada\n",
    "    \n",
    "    * 5 neuronas en la capa oculta\n",
    "    \n",
    "    * 1 neurona en la capa de salida"
   ]
  },
  {
   "cell_type": "code",
   "execution_count": 14,
   "metadata": {},
   "outputs": [
    {
     "name": "stdout",
     "output_type": "stream",
     "text": [
      "It has 3 layers,\n",
      "with the following number of nodes per layer [10, 5, 1]\n"
     ]
    },
    {
     "data": {
      "image/png": "[encoded data removed]",
      "text/plain": [
       "<Figure size 432x288 with 1 Axes>"
      ]
     },
     "metadata": {},
     "output_type": "display_data"
    }
   ],
   "source": [
    "n_x = train_x.shape[1] \n",
    "n_h = 5\n",
    "n_y = train_y.shape[1]\n",
    "    \n",
    "layers = [n_x, n_h, n_y]\n",
    "net = Network(layers)\n",
    "net.graph(layers)"
   ]
  },
  {
   "cell_type": "markdown",
   "metadata": {},
   "source": [
    "<font size=4>9. Define una función llamada *architecture*, la cual reciba como parámetros de entrada la dimensión de entrada, así como una función de activación. La función debe crear, utilizando la API de Keras, un modelo secuencial, cuyas capas representen el modelo que graficaste en el paso anterior. Los pesos deben ser inicializados con valores de una distribución uniforme, mientras que los bias se deben inicializar en ceros."
   ]
  },
  {
   "cell_type": "code",
   "execution_count": 15,
   "metadata": {},
   "outputs": [],
   "source": [
    "def architecture(input_shape, activation):\n",
    "    \n",
    "    model = Sequential()\n",
    "        \n",
    "    model.add(Dense(5, kernel_initializer='uniform', bias_initializer='zeros', \n",
    "                    activation=activation, \n",
    "                    input_shape=input_shape))    \n",
    "    model.add(Dense(1, kernel_initializer='uniform', bias_initializer='zeros', \n",
    "                    activation = activation))\n",
    "    \n",
    "    return model"
   ]
  },
  {
   "cell_type": "markdown",
   "metadata": {},
   "source": [
    "<font size=4>10. Inicializa tu red neuronal, en una variable llamada *model_keras*. Utiliza la tangente hiperbólica como función de activación."
   ]
  },
  {
   "cell_type": "code",
   "execution_count": 16,
   "metadata": {},
   "outputs": [
    {
     "name": "stderr",
     "output_type": "stream",
     "text": [
      "2022-10-03 23:31:29.487661: I tensorflow/core/platform/cpu_feature_guard.cc:193] This TensorFlow binary is optimized with oneAPI Deep Neural Network Library (oneDNN) to use the following CPU instructions in performance-critical operations:  AVX2 FMA\n",
      "To enable them in other operations, rebuild TensorFlow with the appropriate compiler flags.\n"
     ]
    }
   ],
   "source": [
    "input_shape = (10,)\n",
    "activation = 'tanh'\n",
    "\n",
    "model_keras = architecture(input_shape=input_shape, activation=activation)"
   ]
  },
  {
   "cell_type": "markdown",
   "metadata": {},
   "source": [
    "<font size=4>11. Utiliza la función *plot_model* para mostrar la información de la red neuronal que definiste previamente"
   ]
  },
  {
   "cell_type": "code",
   "execution_count": 17,
   "metadata": {},
   "outputs": [
    {
     "data": {
      "image/png": "[encoded data removed]",
      "text/plain": [
       "<IPython.core.display.Image object>"
      ]
     },
     "execution_count": 17,
     "metadata": {},
     "output_type": "execute_result"
    }
   ],
   "source": [
    "plot_model(model_keras, to_file='model.png', show_shapes=True, rankdir='TB', \n",
    "      expand_nested=True, show_layer_names=True, dpi=96)"
   ]
  },
  {
   "cell_type": "markdown",
   "metadata": {},
   "source": [
    "<font size=4>12. Utilizando el método *summary* de tu red neuronal, contesta la siguiente pregunta:\n",
    "    \n",
    "    * ¿Cuántos parámetros entrenables contiene tu modelo?\n",
    "    El modelo tiene 61 parámetros entrenables"
   ]
  },
  {
   "cell_type": "code",
   "execution_count": 18,
   "metadata": {},
   "outputs": [
    {
     "name": "stdout",
     "output_type": "stream",
     "text": [
      "Model: \"sequential\"\n",
      "_________________________________________________________________\n",
      " Layer (type)                Output Shape              Param #   \n",
      "=================================================================\n",
      " dense (Dense)               (None, 5)                 55        \n",
      "                                                                 \n",
      " dense_1 (Dense)             (None, 1)                 6         \n",
      "                                                                 \n",
      "=================================================================\n",
      "Total params: 61\n",
      "Trainable params: 61\n",
      "Non-trainable params: 0\n",
      "_________________________________________________________________\n"
     ]
    }
   ],
   "source": [
    "model_keras.summary()"
   ]
  },
  {
   "cell_type": "markdown",
   "metadata": {},
   "source": [
    "<font size=4>13. Realiza la compilación de tu modelo con los siguiente hiperparámetros:\n",
    "    \n",
    "    * Utilliza un learning rate de 0.0001\n",
    "    \n",
    "    * Utiliza el optimizador Adam\n",
    "    \n",
    "    * La función de costo y la precisión estarán dados por el Error Cuadrático Medio"
   ]
  },
  {
   "cell_type": "code",
   "execution_count": 19,
   "metadata": {},
   "outputs": [],
   "source": [
    "lr = 0.001\n",
    "opt = Adam(learning_rate=lr)\n",
    "loss = tf.keras.losses.MeanSquaredError()\n",
    "acc = tf.keras.metrics.MeanSquaredError()\n",
    "\n",
    "model_keras.compile(loss=loss, \n",
    "              optimizer=opt,\n",
    "              metrics=[acc])"
   ]
  },
  {
   "cell_type": "markdown",
   "metadata": {},
   "source": [
    "<font size=4> 14. Realiza el entrenamiento de tu red neuronal, usando 200 épocas, 32 registros por lote y con una división del conjunto de aprendizaje en 90-10 para los conjuntos de entrenamiento y validación. Mide también el tiempo que le llevó a tu computadora realizar este entrenamiento"
   ]
  },
  {
   "cell_type": "code",
   "execution_count": 20,
   "metadata": {},
   "outputs": [
    {
     "name": "stdout",
     "output_type": "stream",
     "text": [
      "Epoch 1/200\n",
      "12/12 - 0s - loss: 0.9922 - mean_squared_error: 0.9922 - val_loss: 1.0461 - val_mean_squared_error: 1.0461 - 433ms/epoch - 36ms/step\n",
      "Epoch 2/200\n",
      "12/12 - 0s - loss: 0.9826 - mean_squared_error: 0.9826 - val_loss: 1.0324 - val_mean_squared_error: 1.0324 - 27ms/epoch - 2ms/step\n",
      "Epoch 3/200\n",
      "12/12 - 0s - loss: 0.9688 - mean_squared_error: 0.9688 - val_loss: 1.0107 - val_mean_squared_error: 1.0107 - 32ms/epoch - 3ms/step\n",
      "Epoch 4/200\n",
      "12/12 - 0s - loss: 0.9471 - mean_squared_error: 0.9471 - val_loss: 0.9766 - val_mean_squared_error: 0.9766 - 36ms/epoch - 3ms/step\n",
      "Epoch 5/200\n",
      "12/12 - 0s - loss: 0.9142 - mean_squared_error: 0.9142 - val_loss: 0.9322 - val_mean_squared_error: 0.9322 - 37ms/epoch - 3ms/step\n",
      "Epoch 6/200\n",
      "12/12 - 0s - loss: 0.8758 - mean_squared_error: 0.8758 - val_loss: 0.8824 - val_mean_squared_error: 0.8824 - 33ms/epoch - 3ms/step\n",
      "Epoch 7/200\n",
      "12/12 - 0s - loss: 0.8308 - mean_squared_error: 0.8308 - val_loss: 0.8342 - val_mean_squared_error: 0.8342 - 39ms/epoch - 3ms/step\n",
      "Epoch 8/200\n",
      "12/12 - 0s - loss: 0.7880 - mean_squared_error: 0.7880 - val_loss: 0.7890 - val_mean_squared_error: 0.7890 - 42ms/epoch - 3ms/step\n",
      "Epoch 9/200\n",
      "12/12 - 0s - loss: 0.7494 - mean_squared_error: 0.7494 - val_loss: 0.7500 - val_mean_squared_error: 0.7500 - 36ms/epoch - 3ms/step\n",
      "Epoch 10/200\n",
      "12/12 - 0s - loss: 0.7170 - mean_squared_error: 0.7170 - val_loss: 0.7181 - val_mean_squared_error: 0.7181 - 36ms/epoch - 3ms/step\n",
      "Epoch 11/200\n",
      "12/12 - 0s - loss: 0.6889 - mean_squared_error: 0.6889 - val_loss: 0.6920 - val_mean_squared_error: 0.6920 - 36ms/epoch - 3ms/step\n",
      "Epoch 12/200\n",
      "12/12 - 0s - loss: 0.6650 - mean_squared_error: 0.6650 - val_loss: 0.6718 - val_mean_squared_error: 0.6718 - 39ms/epoch - 3ms/step\n",
      "Epoch 13/200\n",
      "12/12 - 0s - loss: 0.6474 - mean_squared_error: 0.6474 - val_loss: 0.6562 - val_mean_squared_error: 0.6562 - 40ms/epoch - 3ms/step\n",
      "Epoch 14/200\n",
      "12/12 - 0s - loss: 0.6337 - mean_squared_error: 0.6337 - val_loss: 0.6424 - val_mean_squared_error: 0.6424 - 37ms/epoch - 3ms/step\n",
      "Epoch 15/200\n",
      "12/12 - 0s - loss: 0.6201 - mean_squared_error: 0.6201 - val_loss: 0.6329 - val_mean_squared_error: 0.6329 - 37ms/epoch - 3ms/step\n",
      "Epoch 16/200\n",
      "12/12 - 0s - loss: 0.6097 - mean_squared_error: 0.6097 - val_loss: 0.6220 - val_mean_squared_error: 0.6220 - 37ms/epoch - 3ms/step\n",
      "Epoch 17/200\n",
      "12/12 - 0s - loss: 0.5992 - mean_squared_error: 0.5992 - val_loss: 0.6111 - val_mean_squared_error: 0.6111 - 40ms/epoch - 3ms/step\n",
      "Epoch 18/200\n",
      "12/12 - 0s - loss: 0.5900 - mean_squared_error: 0.5900 - val_loss: 0.6007 - val_mean_squared_error: 0.6007 - 43ms/epoch - 4ms/step\n",
      "Epoch 19/200\n",
      "12/12 - 0s - loss: 0.5830 - mean_squared_error: 0.5830 - val_loss: 0.5934 - val_mean_squared_error: 0.5934 - 39ms/epoch - 3ms/step\n",
      "Epoch 20/200\n",
      "12/12 - 0s - loss: 0.5766 - mean_squared_error: 0.5766 - val_loss: 0.5865 - val_mean_squared_error: 0.5865 - 41ms/epoch - 3ms/step\n",
      "Epoch 21/200\n",
      "12/12 - 0s - loss: 0.5719 - mean_squared_error: 0.5719 - val_loss: 0.5819 - val_mean_squared_error: 0.5819 - 43ms/epoch - 4ms/step\n",
      "Epoch 22/200\n",
      "12/12 - 0s - loss: 0.5681 - mean_squared_error: 0.5681 - val_loss: 0.5771 - val_mean_squared_error: 0.5771 - 45ms/epoch - 4ms/step\n",
      "Epoch 23/200\n",
      "12/12 - 0s - loss: 0.5630 - mean_squared_error: 0.5630 - val_loss: 0.5714 - val_mean_squared_error: 0.5714 - 48ms/epoch - 4ms/step\n",
      "Epoch 24/200\n",
      "12/12 - 0s - loss: 0.5593 - mean_squared_error: 0.5593 - val_loss: 0.5668 - val_mean_squared_error: 0.5668 - 40ms/epoch - 3ms/step\n",
      "Epoch 25/200\n",
      "12/12 - 0s - loss: 0.5559 - mean_squared_error: 0.5559 - val_loss: 0.5626 - val_mean_squared_error: 0.5626 - 40ms/epoch - 3ms/step\n",
      "Epoch 26/200\n",
      "12/12 - 0s - loss: 0.5533 - mean_squared_error: 0.5533 - val_loss: 0.5587 - val_mean_squared_error: 0.5587 - 37ms/epoch - 3ms/step\n",
      "Epoch 27/200\n",
      "12/12 - 0s - loss: 0.5510 - mean_squared_error: 0.5510 - val_loss: 0.5563 - val_mean_squared_error: 0.5563 - 37ms/epoch - 3ms/step\n",
      "Epoch 28/200\n",
      "12/12 - 0s - loss: 0.5490 - mean_squared_error: 0.5490 - val_loss: 0.5564 - val_mean_squared_error: 0.5564 - 37ms/epoch - 3ms/step\n",
      "Epoch 29/200\n",
      "12/12 - 0s - loss: 0.5476 - mean_squared_error: 0.5476 - val_loss: 0.5531 - val_mean_squared_error: 0.5531 - 36ms/epoch - 3ms/step\n",
      "Epoch 30/200\n",
      "12/12 - 0s - loss: 0.5460 - mean_squared_error: 0.5460 - val_loss: 0.5510 - val_mean_squared_error: 0.5510 - 39ms/epoch - 3ms/step\n",
      "Epoch 31/200\n",
      "12/12 - 0s - loss: 0.5446 - mean_squared_error: 0.5446 - val_loss: 0.5492 - val_mean_squared_error: 0.5492 - 37ms/epoch - 3ms/step\n",
      "Epoch 32/200\n",
      "12/12 - 0s - loss: 0.5434 - mean_squared_error: 0.5434 - val_loss: 0.5461 - val_mean_squared_error: 0.5461 - 37ms/epoch - 3ms/step\n",
      "Epoch 33/200\n",
      "12/12 - 0s - loss: 0.5423 - mean_squared_error: 0.5423 - val_loss: 0.5448 - val_mean_squared_error: 0.5448 - 39ms/epoch - 3ms/step\n",
      "Epoch 34/200\n",
      "12/12 - 0s - loss: 0.5412 - mean_squared_error: 0.5412 - val_loss: 0.5450 - val_mean_squared_error: 0.5450 - 39ms/epoch - 3ms/step\n",
      "Epoch 35/200\n",
      "12/12 - 0s - loss: 0.5410 - mean_squared_error: 0.5410 - val_loss: 0.5446 - val_mean_squared_error: 0.5446 - 40ms/epoch - 3ms/step\n",
      "Epoch 36/200\n",
      "12/12 - 0s - loss: 0.5404 - mean_squared_error: 0.5404 - val_loss: 0.5422 - val_mean_squared_error: 0.5422 - 39ms/epoch - 3ms/step\n",
      "Epoch 37/200\n",
      "12/12 - 0s - loss: 0.5397 - mean_squared_error: 0.5397 - val_loss: 0.5419 - val_mean_squared_error: 0.5419 - 38ms/epoch - 3ms/step\n",
      "Epoch 38/200\n",
      "12/12 - 0s - loss: 0.5392 - mean_squared_error: 0.5392 - val_loss: 0.5381 - val_mean_squared_error: 0.5381 - 35ms/epoch - 3ms/step\n",
      "Epoch 39/200\n",
      "12/12 - 0s - loss: 0.5389 - mean_squared_error: 0.5389 - val_loss: 0.5389 - val_mean_squared_error: 0.5389 - 31ms/epoch - 3ms/step\n",
      "Epoch 40/200\n",
      "12/12 - 0s - loss: 0.5380 - mean_squared_error: 0.5380 - val_loss: 0.5372 - val_mean_squared_error: 0.5372 - 32ms/epoch - 3ms/step\n",
      "Epoch 41/200\n",
      "12/12 - 0s - loss: 0.5376 - mean_squared_error: 0.5376 - val_loss: 0.5362 - val_mean_squared_error: 0.5362 - 30ms/epoch - 2ms/step\n",
      "Epoch 42/200\n",
      "12/12 - 0s - loss: 0.5374 - mean_squared_error: 0.5374 - val_loss: 0.5346 - val_mean_squared_error: 0.5346 - 29ms/epoch - 2ms/step\n",
      "Epoch 43/200\n",
      "12/12 - 0s - loss: 0.5373 - mean_squared_error: 0.5373 - val_loss: 0.5317 - val_mean_squared_error: 0.5317 - 31ms/epoch - 3ms/step\n",
      "Epoch 44/200\n",
      "12/12 - 0s - loss: 0.5369 - mean_squared_error: 0.5369 - val_loss: 0.5294 - val_mean_squared_error: 0.5294 - 29ms/epoch - 2ms/step\n",
      "Epoch 45/200\n",
      "12/12 - 0s - loss: 0.5366 - mean_squared_error: 0.5366 - val_loss: 0.5283 - val_mean_squared_error: 0.5283 - 27ms/epoch - 2ms/step\n",
      "Epoch 46/200\n",
      "12/12 - 0s - loss: 0.5363 - mean_squared_error: 0.5363 - val_loss: 0.5276 - val_mean_squared_error: 0.5276 - 28ms/epoch - 2ms/step\n",
      "Epoch 47/200\n",
      "12/12 - 0s - loss: 0.5357 - mean_squared_error: 0.5357 - val_loss: 0.5259 - val_mean_squared_error: 0.5259 - 32ms/epoch - 3ms/step\n",
      "Epoch 48/200\n",
      "12/12 - 0s - loss: 0.5355 - mean_squared_error: 0.5355 - val_loss: 0.5248 - val_mean_squared_error: 0.5248 - 28ms/epoch - 2ms/step\n",
      "Epoch 49/200\n",
      "12/12 - 0s - loss: 0.5350 - mean_squared_error: 0.5350 - val_loss: 0.5231 - val_mean_squared_error: 0.5231 - 28ms/epoch - 2ms/step\n",
      "Epoch 50/200\n",
      "12/12 - 0s - loss: 0.5349 - mean_squared_error: 0.5349 - val_loss: 0.5218 - val_mean_squared_error: 0.5218 - 28ms/epoch - 2ms/step\n",
      "Epoch 51/200\n",
      "12/12 - 0s - loss: 0.5344 - mean_squared_error: 0.5344 - val_loss: 0.5220 - val_mean_squared_error: 0.5220 - 30ms/epoch - 2ms/step\n",
      "Epoch 52/200\n",
      "12/12 - 0s - loss: 0.5345 - mean_squared_error: 0.5345 - val_loss: 0.5209 - val_mean_squared_error: 0.5209 - 28ms/epoch - 2ms/step\n",
      "Epoch 53/200\n",
      "12/12 - 0s - loss: 0.5341 - mean_squared_error: 0.5341 - val_loss: 0.5201 - val_mean_squared_error: 0.5201 - 28ms/epoch - 2ms/step\n",
      "Epoch 54/200\n",
      "12/12 - 0s - loss: 0.5342 - mean_squared_error: 0.5342 - val_loss: 0.5201 - val_mean_squared_error: 0.5201 - 28ms/epoch - 2ms/step\n",
      "Epoch 55/200\n",
      "12/12 - 0s - loss: 0.5337 - mean_squared_error: 0.5337 - val_loss: 0.5192 - val_mean_squared_error: 0.5192 - 28ms/epoch - 2ms/step\n",
      "Epoch 56/200\n",
      "12/12 - 0s - loss: 0.5335 - mean_squared_error: 0.5335 - val_loss: 0.5189 - val_mean_squared_error: 0.5189 - 27ms/epoch - 2ms/step\n",
      "Epoch 57/200\n",
      "12/12 - 0s - loss: 0.5334 - mean_squared_error: 0.5334 - val_loss: 0.5190 - val_mean_squared_error: 0.5190 - 29ms/epoch - 2ms/step\n"
     ]
    },
    {
     "name": "stdout",
     "output_type": "stream",
     "text": [
      "Epoch 58/200\n",
      "12/12 - 0s - loss: 0.5335 - mean_squared_error: 0.5335 - val_loss: 0.5188 - val_mean_squared_error: 0.5188 - 29ms/epoch - 2ms/step\n",
      "Epoch 59/200\n",
      "12/12 - 0s - loss: 0.5334 - mean_squared_error: 0.5334 - val_loss: 0.5176 - val_mean_squared_error: 0.5176 - 33ms/epoch - 3ms/step\n",
      "Epoch 60/200\n",
      "12/12 - 0s - loss: 0.5336 - mean_squared_error: 0.5336 - val_loss: 0.5173 - val_mean_squared_error: 0.5173 - 31ms/epoch - 3ms/step\n",
      "Epoch 61/200\n",
      "12/12 - 0s - loss: 0.5330 - mean_squared_error: 0.5330 - val_loss: 0.5191 - val_mean_squared_error: 0.5191 - 32ms/epoch - 3ms/step\n",
      "Epoch 62/200\n",
      "12/12 - 0s - loss: 0.5331 - mean_squared_error: 0.5331 - val_loss: 0.5172 - val_mean_squared_error: 0.5172 - 32ms/epoch - 3ms/step\n",
      "Epoch 63/200\n",
      "12/12 - 0s - loss: 0.5336 - mean_squared_error: 0.5336 - val_loss: 0.5196 - val_mean_squared_error: 0.5196 - 28ms/epoch - 2ms/step\n",
      "Epoch 64/200\n",
      "12/12 - 0s - loss: 0.5328 - mean_squared_error: 0.5328 - val_loss: 0.5191 - val_mean_squared_error: 0.5191 - 29ms/epoch - 2ms/step\n",
      "Epoch 65/200\n",
      "12/12 - 0s - loss: 0.5326 - mean_squared_error: 0.5326 - val_loss: 0.5181 - val_mean_squared_error: 0.5181 - 28ms/epoch - 2ms/step\n",
      "Epoch 66/200\n",
      "12/12 - 0s - loss: 0.5331 - mean_squared_error: 0.5331 - val_loss: 0.5157 - val_mean_squared_error: 0.5157 - 30ms/epoch - 2ms/step\n",
      "Epoch 67/200\n",
      "12/12 - 0s - loss: 0.5323 - mean_squared_error: 0.5323 - val_loss: 0.5136 - val_mean_squared_error: 0.5136 - 27ms/epoch - 2ms/step\n",
      "Epoch 68/200\n",
      "12/12 - 0s - loss: 0.5324 - mean_squared_error: 0.5324 - val_loss: 0.5145 - val_mean_squared_error: 0.5145 - 28ms/epoch - 2ms/step\n",
      "Epoch 69/200\n",
      "12/12 - 0s - loss: 0.5319 - mean_squared_error: 0.5319 - val_loss: 0.5153 - val_mean_squared_error: 0.5153 - 28ms/epoch - 2ms/step\n",
      "Epoch 70/200\n",
      "12/12 - 0s - loss: 0.5318 - mean_squared_error: 0.5318 - val_loss: 0.5149 - val_mean_squared_error: 0.5149 - 29ms/epoch - 2ms/step\n",
      "Epoch 71/200\n",
      "12/12 - 0s - loss: 0.5315 - mean_squared_error: 0.5315 - val_loss: 0.5144 - val_mean_squared_error: 0.5144 - 30ms/epoch - 3ms/step\n",
      "Epoch 72/200\n",
      "12/12 - 0s - loss: 0.5315 - mean_squared_error: 0.5315 - val_loss: 0.5134 - val_mean_squared_error: 0.5134 - 30ms/epoch - 2ms/step\n",
      "Epoch 73/200\n",
      "12/12 - 0s - loss: 0.5313 - mean_squared_error: 0.5313 - val_loss: 0.5140 - val_mean_squared_error: 0.5140 - 30ms/epoch - 3ms/step\n",
      "Epoch 74/200\n",
      "12/12 - 0s - loss: 0.5312 - mean_squared_error: 0.5312 - val_loss: 0.5128 - val_mean_squared_error: 0.5128 - 30ms/epoch - 3ms/step\n",
      "Epoch 75/200\n",
      "12/12 - 0s - loss: 0.5313 - mean_squared_error: 0.5313 - val_loss: 0.5123 - val_mean_squared_error: 0.5123 - 30ms/epoch - 3ms/step\n",
      "Epoch 76/200\n",
      "12/12 - 0s - loss: 0.5313 - mean_squared_error: 0.5313 - val_loss: 0.5110 - val_mean_squared_error: 0.5110 - 28ms/epoch - 2ms/step\n",
      "Epoch 77/200\n",
      "12/12 - 0s - loss: 0.5313 - mean_squared_error: 0.5313 - val_loss: 0.5116 - val_mean_squared_error: 0.5116 - 27ms/epoch - 2ms/step\n",
      "Epoch 78/200\n",
      "12/12 - 0s - loss: 0.5313 - mean_squared_error: 0.5313 - val_loss: 0.5104 - val_mean_squared_error: 0.5104 - 29ms/epoch - 2ms/step\n",
      "Epoch 79/200\n",
      "12/12 - 0s - loss: 0.5307 - mean_squared_error: 0.5307 - val_loss: 0.5108 - val_mean_squared_error: 0.5108 - 28ms/epoch - 2ms/step\n",
      "Epoch 80/200\n",
      "12/12 - 0s - loss: 0.5307 - mean_squared_error: 0.5307 - val_loss: 0.5094 - val_mean_squared_error: 0.5094 - 28ms/epoch - 2ms/step\n",
      "Epoch 81/200\n",
      "12/12 - 0s - loss: 0.5307 - mean_squared_error: 0.5307 - val_loss: 0.5112 - val_mean_squared_error: 0.5112 - 28ms/epoch - 2ms/step\n",
      "Epoch 82/200\n",
      "12/12 - 0s - loss: 0.5308 - mean_squared_error: 0.5308 - val_loss: 0.5104 - val_mean_squared_error: 0.5104 - 31ms/epoch - 3ms/step\n",
      "Epoch 83/200\n",
      "12/12 - 0s - loss: 0.5303 - mean_squared_error: 0.5303 - val_loss: 0.5111 - val_mean_squared_error: 0.5111 - 30ms/epoch - 2ms/step\n",
      "Epoch 84/200\n",
      "12/12 - 0s - loss: 0.5299 - mean_squared_error: 0.5299 - val_loss: 0.5101 - val_mean_squared_error: 0.5101 - 29ms/epoch - 2ms/step\n",
      "Epoch 85/200\n",
      "12/12 - 0s - loss: 0.5300 - mean_squared_error: 0.5300 - val_loss: 0.5110 - val_mean_squared_error: 0.5110 - 32ms/epoch - 3ms/step\n",
      "Epoch 86/200\n",
      "12/12 - 0s - loss: 0.5294 - mean_squared_error: 0.5294 - val_loss: 0.5106 - val_mean_squared_error: 0.5106 - 31ms/epoch - 3ms/step\n",
      "Epoch 87/200\n",
      "12/12 - 0s - loss: 0.5299 - mean_squared_error: 0.5299 - val_loss: 0.5102 - val_mean_squared_error: 0.5102 - 33ms/epoch - 3ms/step\n",
      "Epoch 88/200\n",
      "12/12 - 0s - loss: 0.5298 - mean_squared_error: 0.5298 - val_loss: 0.5108 - val_mean_squared_error: 0.5108 - 33ms/epoch - 3ms/step\n",
      "Epoch 89/200\n",
      "12/12 - 0s - loss: 0.5300 - mean_squared_error: 0.5300 - val_loss: 0.5123 - val_mean_squared_error: 0.5123 - 37ms/epoch - 3ms/step\n",
      "Epoch 90/200\n",
      "12/12 - 0s - loss: 0.5293 - mean_squared_error: 0.5293 - val_loss: 0.5121 - val_mean_squared_error: 0.5121 - 33ms/epoch - 3ms/step\n",
      "Epoch 91/200\n",
      "12/12 - 0s - loss: 0.5293 - mean_squared_error: 0.5293 - val_loss: 0.5111 - val_mean_squared_error: 0.5111 - 33ms/epoch - 3ms/step\n",
      "Epoch 92/200\n",
      "12/12 - 0s - loss: 0.5292 - mean_squared_error: 0.5292 - val_loss: 0.5109 - val_mean_squared_error: 0.5109 - 32ms/epoch - 3ms/step\n",
      "Epoch 93/200\n",
      "12/12 - 0s - loss: 0.5293 - mean_squared_error: 0.5293 - val_loss: 0.5128 - val_mean_squared_error: 0.5128 - 32ms/epoch - 3ms/step\n",
      "Epoch 94/200\n",
      "12/12 - 0s - loss: 0.5286 - mean_squared_error: 0.5286 - val_loss: 0.5131 - val_mean_squared_error: 0.5131 - 34ms/epoch - 3ms/step\n",
      "Epoch 95/200\n",
      "12/12 - 0s - loss: 0.5290 - mean_squared_error: 0.5290 - val_loss: 0.5131 - val_mean_squared_error: 0.5131 - 32ms/epoch - 3ms/step\n",
      "Epoch 96/200\n",
      "12/12 - 0s - loss: 0.5287 - mean_squared_error: 0.5287 - val_loss: 0.5115 - val_mean_squared_error: 0.5115 - 29ms/epoch - 2ms/step\n",
      "Epoch 97/200\n",
      "12/12 - 0s - loss: 0.5286 - mean_squared_error: 0.5286 - val_loss: 0.5089 - val_mean_squared_error: 0.5089 - 31ms/epoch - 3ms/step\n",
      "Epoch 98/200\n",
      "12/12 - 0s - loss: 0.5282 - mean_squared_error: 0.5282 - val_loss: 0.5067 - val_mean_squared_error: 0.5067 - 32ms/epoch - 3ms/step\n",
      "Epoch 99/200\n",
      "12/12 - 0s - loss: 0.5284 - mean_squared_error: 0.5284 - val_loss: 0.5047 - val_mean_squared_error: 0.5047 - 33ms/epoch - 3ms/step\n",
      "Epoch 100/200\n",
      "12/12 - 0s - loss: 0.5279 - mean_squared_error: 0.5279 - val_loss: 0.5017 - val_mean_squared_error: 0.5017 - 32ms/epoch - 3ms/step\n",
      "Epoch 101/200\n",
      "12/12 - 0s - loss: 0.5281 - mean_squared_error: 0.5281 - val_loss: 0.4989 - val_mean_squared_error: 0.4989 - 32ms/epoch - 3ms/step\n",
      "Epoch 102/200\n",
      "12/12 - 0s - loss: 0.5277 - mean_squared_error: 0.5277 - val_loss: 0.4994 - val_mean_squared_error: 0.4994 - 32ms/epoch - 3ms/step\n",
      "Epoch 103/200\n",
      "12/12 - 0s - loss: 0.5278 - mean_squared_error: 0.5278 - val_loss: 0.4999 - val_mean_squared_error: 0.4999 - 32ms/epoch - 3ms/step\n",
      "Epoch 104/200\n",
      "12/12 - 0s - loss: 0.5275 - mean_squared_error: 0.5275 - val_loss: 0.4978 - val_mean_squared_error: 0.4978 - 35ms/epoch - 3ms/step\n",
      "Epoch 105/200\n",
      "12/12 - 0s - loss: 0.5273 - mean_squared_error: 0.5273 - val_loss: 0.4946 - val_mean_squared_error: 0.4946 - 35ms/epoch - 3ms/step\n",
      "Epoch 106/200\n",
      "12/12 - 0s - loss: 0.5278 - mean_squared_error: 0.5278 - val_loss: 0.4923 - val_mean_squared_error: 0.4923 - 34ms/epoch - 3ms/step\n",
      "Epoch 107/200\n",
      "12/12 - 0s - loss: 0.5270 - mean_squared_error: 0.5270 - val_loss: 0.4931 - val_mean_squared_error: 0.4931 - 38ms/epoch - 3ms/step\n",
      "Epoch 108/200\n",
      "12/12 - 0s - loss: 0.5270 - mean_squared_error: 0.5270 - val_loss: 0.4938 - val_mean_squared_error: 0.4938 - 34ms/epoch - 3ms/step\n",
      "Epoch 109/200\n",
      "12/12 - 0s - loss: 0.5276 - mean_squared_error: 0.5276 - val_loss: 0.4950 - val_mean_squared_error: 0.4950 - 34ms/epoch - 3ms/step\n",
      "Epoch 110/200\n",
      "12/12 - 0s - loss: 0.5271 - mean_squared_error: 0.5271 - val_loss: 0.4949 - val_mean_squared_error: 0.4949 - 34ms/epoch - 3ms/step\n",
      "Epoch 111/200\n",
      "12/12 - 0s - loss: 0.5271 - mean_squared_error: 0.5271 - val_loss: 0.4943 - val_mean_squared_error: 0.4943 - 33ms/epoch - 3ms/step\n",
      "Epoch 112/200\n",
      "12/12 - 0s - loss: 0.5266 - mean_squared_error: 0.5266 - val_loss: 0.4951 - val_mean_squared_error: 0.4951 - 31ms/epoch - 3ms/step\n",
      "Epoch 113/200\n",
      "12/12 - 0s - loss: 0.5265 - mean_squared_error: 0.5265 - val_loss: 0.4977 - val_mean_squared_error: 0.4977 - 31ms/epoch - 3ms/step\n",
      "Epoch 114/200\n",
      "12/12 - 0s - loss: 0.5264 - mean_squared_error: 0.5264 - val_loss: 0.4981 - val_mean_squared_error: 0.4981 - 31ms/epoch - 3ms/step\n"
     ]
    },
    {
     "name": "stdout",
     "output_type": "stream",
     "text": [
      "Epoch 115/200\n",
      "12/12 - 0s - loss: 0.5262 - mean_squared_error: 0.5262 - val_loss: 0.4961 - val_mean_squared_error: 0.4961 - 30ms/epoch - 2ms/step\n",
      "Epoch 116/200\n",
      "12/12 - 0s - loss: 0.5261 - mean_squared_error: 0.5261 - val_loss: 0.4949 - val_mean_squared_error: 0.4949 - 31ms/epoch - 3ms/step\n",
      "Epoch 117/200\n",
      "12/12 - 0s - loss: 0.5256 - mean_squared_error: 0.5256 - val_loss: 0.4942 - val_mean_squared_error: 0.4942 - 33ms/epoch - 3ms/step\n",
      "Epoch 118/200\n",
      "12/12 - 0s - loss: 0.5253 - mean_squared_error: 0.5253 - val_loss: 0.4945 - val_mean_squared_error: 0.4945 - 32ms/epoch - 3ms/step\n",
      "Epoch 119/200\n",
      "12/12 - 0s - loss: 0.5256 - mean_squared_error: 0.5256 - val_loss: 0.4937 - val_mean_squared_error: 0.4937 - 34ms/epoch - 3ms/step\n",
      "Epoch 120/200\n",
      "12/12 - 0s - loss: 0.5258 - mean_squared_error: 0.5258 - val_loss: 0.4920 - val_mean_squared_error: 0.4920 - 34ms/epoch - 3ms/step\n",
      "Epoch 121/200\n",
      "12/12 - 0s - loss: 0.5256 - mean_squared_error: 0.5256 - val_loss: 0.4925 - val_mean_squared_error: 0.4925 - 32ms/epoch - 3ms/step\n",
      "Epoch 122/200\n",
      "12/12 - 0s - loss: 0.5252 - mean_squared_error: 0.5252 - val_loss: 0.4937 - val_mean_squared_error: 0.4937 - 35ms/epoch - 3ms/step\n",
      "Epoch 123/200\n",
      "12/12 - 0s - loss: 0.5249 - mean_squared_error: 0.5249 - val_loss: 0.4942 - val_mean_squared_error: 0.4942 - 32ms/epoch - 3ms/step\n",
      "Epoch 124/200\n",
      "12/12 - 0s - loss: 0.5251 - mean_squared_error: 0.5251 - val_loss: 0.4945 - val_mean_squared_error: 0.4945 - 30ms/epoch - 2ms/step\n",
      "Epoch 125/200\n",
      "12/12 - 0s - loss: 0.5243 - mean_squared_error: 0.5243 - val_loss: 0.4926 - val_mean_squared_error: 0.4926 - 35ms/epoch - 3ms/step\n",
      "Epoch 126/200\n",
      "12/12 - 0s - loss: 0.5245 - mean_squared_error: 0.5245 - val_loss: 0.4920 - val_mean_squared_error: 0.4920 - 31ms/epoch - 3ms/step\n",
      "Epoch 127/200\n",
      "12/12 - 0s - loss: 0.5243 - mean_squared_error: 0.5243 - val_loss: 0.4914 - val_mean_squared_error: 0.4914 - 30ms/epoch - 3ms/step\n",
      "Epoch 128/200\n",
      "12/12 - 0s - loss: 0.5240 - mean_squared_error: 0.5240 - val_loss: 0.4927 - val_mean_squared_error: 0.4927 - 32ms/epoch - 3ms/step\n",
      "Epoch 129/200\n",
      "12/12 - 0s - loss: 0.5239 - mean_squared_error: 0.5239 - val_loss: 0.4941 - val_mean_squared_error: 0.4941 - 31ms/epoch - 3ms/step\n",
      "Epoch 130/200\n",
      "12/12 - 0s - loss: 0.5239 - mean_squared_error: 0.5239 - val_loss: 0.4958 - val_mean_squared_error: 0.4958 - 29ms/epoch - 2ms/step\n",
      "Epoch 131/200\n",
      "12/12 - 0s - loss: 0.5238 - mean_squared_error: 0.5238 - val_loss: 0.4957 - val_mean_squared_error: 0.4957 - 29ms/epoch - 2ms/step\n",
      "Epoch 132/200\n",
      "12/12 - 0s - loss: 0.5236 - mean_squared_error: 0.5236 - val_loss: 0.4967 - val_mean_squared_error: 0.4967 - 28ms/epoch - 2ms/step\n",
      "Epoch 133/200\n",
      "12/12 - 0s - loss: 0.5232 - mean_squared_error: 0.5232 - val_loss: 0.4983 - val_mean_squared_error: 0.4983 - 28ms/epoch - 2ms/step\n",
      "Epoch 134/200\n",
      "12/12 - 0s - loss: 0.5236 - mean_squared_error: 0.5236 - val_loss: 0.5005 - val_mean_squared_error: 0.5005 - 29ms/epoch - 2ms/step\n",
      "Epoch 135/200\n",
      "12/12 - 0s - loss: 0.5234 - mean_squared_error: 0.5234 - val_loss: 0.5012 - val_mean_squared_error: 0.5012 - 28ms/epoch - 2ms/step\n",
      "Epoch 136/200\n",
      "12/12 - 0s - loss: 0.5234 - mean_squared_error: 0.5234 - val_loss: 0.4992 - val_mean_squared_error: 0.4992 - 30ms/epoch - 3ms/step\n",
      "Epoch 137/200\n",
      "12/12 - 0s - loss: 0.5229 - mean_squared_error: 0.5229 - val_loss: 0.4988 - val_mean_squared_error: 0.4988 - 29ms/epoch - 2ms/step\n",
      "Epoch 138/200\n",
      "12/12 - 0s - loss: 0.5228 - mean_squared_error: 0.5228 - val_loss: 0.4993 - val_mean_squared_error: 0.4993 - 28ms/epoch - 2ms/step\n",
      "Epoch 139/200\n",
      "12/12 - 0s - loss: 0.5223 - mean_squared_error: 0.5223 - val_loss: 0.4989 - val_mean_squared_error: 0.4989 - 29ms/epoch - 2ms/step\n",
      "Epoch 140/200\n",
      "12/12 - 0s - loss: 0.5224 - mean_squared_error: 0.5224 - val_loss: 0.4990 - val_mean_squared_error: 0.4990 - 31ms/epoch - 3ms/step\n",
      "Epoch 141/200\n",
      "12/12 - 0s - loss: 0.5222 - mean_squared_error: 0.5222 - val_loss: 0.4982 - val_mean_squared_error: 0.4982 - 28ms/epoch - 2ms/step\n",
      "Epoch 142/200\n",
      "12/12 - 0s - loss: 0.5221 - mean_squared_error: 0.5221 - val_loss: 0.4978 - val_mean_squared_error: 0.4978 - 27ms/epoch - 2ms/step\n",
      "Epoch 143/200\n",
      "12/12 - 0s - loss: 0.5220 - mean_squared_error: 0.5220 - val_loss: 0.4953 - val_mean_squared_error: 0.4953 - 27ms/epoch - 2ms/step\n",
      "Epoch 144/200\n",
      "12/12 - 0s - loss: 0.5221 - mean_squared_error: 0.5221 - val_loss: 0.4957 - val_mean_squared_error: 0.4957 - 28ms/epoch - 2ms/step\n",
      "Epoch 145/200\n",
      "12/12 - 0s - loss: 0.5215 - mean_squared_error: 0.5215 - val_loss: 0.4964 - val_mean_squared_error: 0.4964 - 28ms/epoch - 2ms/step\n",
      "Epoch 146/200\n",
      "12/12 - 0s - loss: 0.5214 - mean_squared_error: 0.5214 - val_loss: 0.4964 - val_mean_squared_error: 0.4964 - 28ms/epoch - 2ms/step\n",
      "Epoch 147/200\n",
      "12/12 - 0s - loss: 0.5212 - mean_squared_error: 0.5212 - val_loss: 0.4960 - val_mean_squared_error: 0.4960 - 28ms/epoch - 2ms/step\n",
      "Epoch 148/200\n",
      "12/12 - 0s - loss: 0.5207 - mean_squared_error: 0.5207 - val_loss: 0.4962 - val_mean_squared_error: 0.4962 - 29ms/epoch - 2ms/step\n",
      "Epoch 149/200\n",
      "12/12 - 0s - loss: 0.5209 - mean_squared_error: 0.5209 - val_loss: 0.4951 - val_mean_squared_error: 0.4951 - 28ms/epoch - 2ms/step\n",
      "Epoch 150/200\n",
      "12/12 - 0s - loss: 0.5207 - mean_squared_error: 0.5207 - val_loss: 0.4981 - val_mean_squared_error: 0.4981 - 28ms/epoch - 2ms/step\n",
      "Epoch 151/200\n",
      "12/12 - 0s - loss: 0.5205 - mean_squared_error: 0.5205 - val_loss: 0.4985 - val_mean_squared_error: 0.4985 - 29ms/epoch - 2ms/step\n",
      "Epoch 152/200\n",
      "12/12 - 0s - loss: 0.5206 - mean_squared_error: 0.5206 - val_loss: 0.4983 - val_mean_squared_error: 0.4983 - 27ms/epoch - 2ms/step\n",
      "Epoch 153/200\n",
      "12/12 - 0s - loss: 0.5203 - mean_squared_error: 0.5203 - val_loss: 0.4998 - val_mean_squared_error: 0.4998 - 29ms/epoch - 2ms/step\n",
      "Epoch 154/200\n",
      "12/12 - 0s - loss: 0.5206 - mean_squared_error: 0.5206 - val_loss: 0.4993 - val_mean_squared_error: 0.4993 - 29ms/epoch - 2ms/step\n",
      "Epoch 155/200\n",
      "12/12 - 0s - loss: 0.5200 - mean_squared_error: 0.5200 - val_loss: 0.4998 - val_mean_squared_error: 0.4998 - 30ms/epoch - 2ms/step\n",
      "Epoch 156/200\n",
      "12/12 - 0s - loss: 0.5201 - mean_squared_error: 0.5201 - val_loss: 0.4989 - val_mean_squared_error: 0.4989 - 33ms/epoch - 3ms/step\n",
      "Epoch 157/200\n",
      "12/12 - 0s - loss: 0.5195 - mean_squared_error: 0.5195 - val_loss: 0.4988 - val_mean_squared_error: 0.4988 - 31ms/epoch - 3ms/step\n",
      "Epoch 158/200\n",
      "12/12 - 0s - loss: 0.5190 - mean_squared_error: 0.5190 - val_loss: 0.4977 - val_mean_squared_error: 0.4977 - 31ms/epoch - 3ms/step\n",
      "Epoch 159/200\n",
      "12/12 - 0s - loss: 0.5194 - mean_squared_error: 0.5194 - val_loss: 0.4980 - val_mean_squared_error: 0.4980 - 31ms/epoch - 3ms/step\n",
      "Epoch 160/200\n",
      "12/12 - 0s - loss: 0.5191 - mean_squared_error: 0.5191 - val_loss: 0.4975 - val_mean_squared_error: 0.4975 - 33ms/epoch - 3ms/step\n",
      "Epoch 161/200\n",
      "12/12 - 0s - loss: 0.5189 - mean_squared_error: 0.5189 - val_loss: 0.4979 - val_mean_squared_error: 0.4979 - 33ms/epoch - 3ms/step\n",
      "Epoch 162/200\n",
      "12/12 - 0s - loss: 0.5187 - mean_squared_error: 0.5187 - val_loss: 0.4973 - val_mean_squared_error: 0.4973 - 32ms/epoch - 3ms/step\n",
      "Epoch 163/200\n",
      "12/12 - 0s - loss: 0.5183 - mean_squared_error: 0.5183 - val_loss: 0.4959 - val_mean_squared_error: 0.4959 - 32ms/epoch - 3ms/step\n",
      "Epoch 164/200\n",
      "12/12 - 0s - loss: 0.5182 - mean_squared_error: 0.5182 - val_loss: 0.4946 - val_mean_squared_error: 0.4946 - 31ms/epoch - 3ms/step\n",
      "Epoch 165/200\n",
      "12/12 - 0s - loss: 0.5181 - mean_squared_error: 0.5181 - val_loss: 0.4951 - val_mean_squared_error: 0.4951 - 31ms/epoch - 3ms/step\n",
      "Epoch 166/200\n",
      "12/12 - 0s - loss: 0.5179 - mean_squared_error: 0.5179 - val_loss: 0.4955 - val_mean_squared_error: 0.4955 - 31ms/epoch - 3ms/step\n",
      "Epoch 167/200\n",
      "12/12 - 0s - loss: 0.5178 - mean_squared_error: 0.5178 - val_loss: 0.4954 - val_mean_squared_error: 0.4954 - 31ms/epoch - 3ms/step\n",
      "Epoch 168/200\n",
      "12/12 - 0s - loss: 0.5174 - mean_squared_error: 0.5174 - val_loss: 0.4952 - val_mean_squared_error: 0.4952 - 32ms/epoch - 3ms/step\n",
      "Epoch 169/200\n",
      "12/12 - 0s - loss: 0.5172 - mean_squared_error: 0.5172 - val_loss: 0.4952 - val_mean_squared_error: 0.4952 - 31ms/epoch - 3ms/step\n",
      "Epoch 170/200\n",
      "12/12 - 0s - loss: 0.5179 - mean_squared_error: 0.5179 - val_loss: 0.4957 - val_mean_squared_error: 0.4957 - 30ms/epoch - 3ms/step\n",
      "Epoch 171/200\n",
      "12/12 - 0s - loss: 0.5172 - mean_squared_error: 0.5172 - val_loss: 0.4980 - val_mean_squared_error: 0.4980 - 30ms/epoch - 3ms/step\n"
     ]
    },
    {
     "name": "stdout",
     "output_type": "stream",
     "text": [
      "Epoch 172/200\n",
      "12/12 - 0s - loss: 0.5171 - mean_squared_error: 0.5171 - val_loss: 0.4980 - val_mean_squared_error: 0.4980 - 33ms/epoch - 3ms/step\n",
      "Epoch 173/200\n",
      "12/12 - 0s - loss: 0.5166 - mean_squared_error: 0.5166 - val_loss: 0.5005 - val_mean_squared_error: 0.5005 - 34ms/epoch - 3ms/step\n",
      "Epoch 174/200\n",
      "12/12 - 0s - loss: 0.5164 - mean_squared_error: 0.5164 - val_loss: 0.4974 - val_mean_squared_error: 0.4974 - 33ms/epoch - 3ms/step\n",
      "Epoch 175/200\n",
      "12/12 - 0s - loss: 0.5163 - mean_squared_error: 0.5163 - val_loss: 0.4971 - val_mean_squared_error: 0.4971 - 34ms/epoch - 3ms/step\n",
      "Epoch 176/200\n",
      "12/12 - 0s - loss: 0.5165 - mean_squared_error: 0.5165 - val_loss: 0.4955 - val_mean_squared_error: 0.4955 - 37ms/epoch - 3ms/step\n",
      "Epoch 177/200\n",
      "12/12 - 0s - loss: 0.5168 - mean_squared_error: 0.5168 - val_loss: 0.4958 - val_mean_squared_error: 0.4958 - 40ms/epoch - 3ms/step\n",
      "Epoch 178/200\n",
      "12/12 - 0s - loss: 0.5160 - mean_squared_error: 0.5160 - val_loss: 0.4961 - val_mean_squared_error: 0.4961 - 38ms/epoch - 3ms/step\n",
      "Epoch 179/200\n",
      "12/12 - 0s - loss: 0.5160 - mean_squared_error: 0.5160 - val_loss: 0.4953 - val_mean_squared_error: 0.4953 - 35ms/epoch - 3ms/step\n",
      "Epoch 180/200\n",
      "12/12 - 0s - loss: 0.5156 - mean_squared_error: 0.5156 - val_loss: 0.4962 - val_mean_squared_error: 0.4962 - 33ms/epoch - 3ms/step\n",
      "Epoch 181/200\n",
      "12/12 - 0s - loss: 0.5153 - mean_squared_error: 0.5153 - val_loss: 0.4947 - val_mean_squared_error: 0.4947 - 32ms/epoch - 3ms/step\n",
      "Epoch 182/200\n",
      "12/12 - 0s - loss: 0.5158 - mean_squared_error: 0.5158 - val_loss: 0.4924 - val_mean_squared_error: 0.4924 - 31ms/epoch - 3ms/step\n",
      "Epoch 183/200\n",
      "12/12 - 0s - loss: 0.5146 - mean_squared_error: 0.5146 - val_loss: 0.4924 - val_mean_squared_error: 0.4924 - 31ms/epoch - 3ms/step\n",
      "Epoch 184/200\n",
      "12/12 - 0s - loss: 0.5145 - mean_squared_error: 0.5145 - val_loss: 0.4923 - val_mean_squared_error: 0.4923 - 30ms/epoch - 2ms/step\n",
      "Epoch 185/200\n",
      "12/12 - 0s - loss: 0.5147 - mean_squared_error: 0.5147 - val_loss: 0.4933 - val_mean_squared_error: 0.4933 - 29ms/epoch - 2ms/step\n",
      "Epoch 186/200\n",
      "12/12 - 0s - loss: 0.5145 - mean_squared_error: 0.5145 - val_loss: 0.4940 - val_mean_squared_error: 0.4940 - 29ms/epoch - 2ms/step\n",
      "Epoch 187/200\n",
      "12/12 - 0s - loss: 0.5140 - mean_squared_error: 0.5140 - val_loss: 0.4937 - val_mean_squared_error: 0.4937 - 29ms/epoch - 2ms/step\n",
      "Epoch 188/200\n",
      "12/12 - 0s - loss: 0.5140 - mean_squared_error: 0.5140 - val_loss: 0.4938 - val_mean_squared_error: 0.4938 - 30ms/epoch - 3ms/step\n",
      "Epoch 189/200\n",
      "12/12 - 0s - loss: 0.5136 - mean_squared_error: 0.5136 - val_loss: 0.4944 - val_mean_squared_error: 0.4944 - 29ms/epoch - 2ms/step\n",
      "Epoch 190/200\n",
      "12/12 - 0s - loss: 0.5135 - mean_squared_error: 0.5135 - val_loss: 0.4937 - val_mean_squared_error: 0.4937 - 28ms/epoch - 2ms/step\n",
      "Epoch 191/200\n",
      "12/12 - 0s - loss: 0.5133 - mean_squared_error: 0.5133 - val_loss: 0.4948 - val_mean_squared_error: 0.4948 - 28ms/epoch - 2ms/step\n",
      "Epoch 192/200\n",
      "12/12 - 0s - loss: 0.5128 - mean_squared_error: 0.5128 - val_loss: 0.4947 - val_mean_squared_error: 0.4947 - 29ms/epoch - 2ms/step\n",
      "Epoch 193/200\n",
      "12/12 - 0s - loss: 0.5128 - mean_squared_error: 0.5128 - val_loss: 0.4957 - val_mean_squared_error: 0.4957 - 30ms/epoch - 2ms/step\n",
      "Epoch 194/200\n",
      "12/12 - 0s - loss: 0.5127 - mean_squared_error: 0.5127 - val_loss: 0.4947 - val_mean_squared_error: 0.4947 - 31ms/epoch - 3ms/step\n",
      "Epoch 195/200\n",
      "12/12 - 0s - loss: 0.5124 - mean_squared_error: 0.5124 - val_loss: 0.4950 - val_mean_squared_error: 0.4950 - 30ms/epoch - 2ms/step\n",
      "Epoch 196/200\n",
      "12/12 - 0s - loss: 0.5119 - mean_squared_error: 0.5119 - val_loss: 0.4964 - val_mean_squared_error: 0.4964 - 33ms/epoch - 3ms/step\n",
      "Epoch 197/200\n",
      "12/12 - 0s - loss: 0.5121 - mean_squared_error: 0.5121 - val_loss: 0.4983 - val_mean_squared_error: 0.4983 - 31ms/epoch - 3ms/step\n",
      "Epoch 198/200\n",
      "12/12 - 0s - loss: 0.5118 - mean_squared_error: 0.5118 - val_loss: 0.4991 - val_mean_squared_error: 0.4991 - 34ms/epoch - 3ms/step\n",
      "Epoch 199/200\n",
      "12/12 - 0s - loss: 0.5116 - mean_squared_error: 0.5116 - val_loss: 0.5003 - val_mean_squared_error: 0.5003 - 31ms/epoch - 3ms/step\n",
      "Epoch 200/200\n",
      "12/12 - 0s - loss: 0.5112 - mean_squared_error: 0.5112 - val_loss: 0.4998 - val_mean_squared_error: 0.4998 - 34ms/epoch - 3ms/step\n",
      "Time for training:     7.2741s\n"
     ]
    }
   ],
   "source": [
    "epochs = 200\n",
    "start_time = time.time()\n",
    "val_split=0.1\n",
    "\n",
    "history_model = model_keras.fit(train_x, train_y,\n",
    "                          epochs=epochs,\n",
    "                          batch_size=32,\n",
    "                          validation_split=val_split, \n",
    "                          shuffle=True,\n",
    "                          verbose=2)\n",
    "\n",
    "end_time = time.time()\n",
    "print(\"Time for training: {:10.4f}s\".format(end_time - start_time))"
   ]
  },
  {
   "cell_type": "markdown",
   "metadata": {},
   "source": [
    "<font size=4>15. Realiza la gráfica de Costo vs Épocas de los conjuntos de entramiento y validación.   "
   ]
  },
  {
   "cell_type": "code",
   "execution_count": 21,
   "metadata": {},
   "outputs": [
    {
     "data": {
      "image/png": "[encoded data removed]",
      "text/plain": [
       "<Figure size 432x288 with 1 Axes>"
      ]
     },
     "metadata": {
      "needs_background": "light"
     },
     "output_type": "display_data"
    }
   ],
   "source": [
    "plt.plot(history_model.history['loss'], 'magenta')\n",
    "plt.plot(history_model.history['val_loss'], 'blue')\n",
    "plt.title('Loss function')\n",
    "plt.ylabel('Cost', size=16)\n",
    "plt.xlabel('Epoch', size=16)\n",
    "plt.legend(['Train', 'Validation'], loc='upper right');"
   ]
  },
  {
   "cell_type": "markdown",
   "metadata": {},
   "source": [
    "<font size=4>16. Utilizando el método *evaluate* de tu modelo, obten el costo sobre el conjunto test."
   ]
  },
  {
   "cell_type": "code",
   "execution_count": 22,
   "metadata": {},
   "outputs": [
    {
     "name": "stdout",
     "output_type": "stream",
     "text": [
      "2/2 [==============================] - 0s 2ms/step - loss: 0.5276 - mean_squared_error: 0.5276\n",
      "Test loss: 0.52756267786026\n"
     ]
    }
   ],
   "source": [
    "scores = model_keras.evaluate(test_x, test_y)\n",
    "print('Test loss:', scores[0])"
   ]
  },
  {
   "cell_type": "markdown",
   "metadata": {},
   "source": [
    "<font size=4>17. Finalmente, utilizando el método *predict* de la red neuronal, obten las predicciones sobre el conjunto de entramiento, y muestra la inferencia sobre el primer registro de estas predicciones (recuerda revertir la normalización para obtener la predicción en términos que podamos entender) "
   ]
  },
  {
   "cell_type": "code",
   "execution_count": 23,
   "metadata": {},
   "outputs": [
    {
     "name": "stdout",
     "output_type": "stream",
     "text": [
      "2/2 [==============================] - 0s 2ms/step\n",
      "45\n"
     ]
    }
   ],
   "source": [
    "predictions = model_keras.predict(test_x)\n",
    "print(len(predictions))"
   ]
  },
  {
   "cell_type": "code",
   "execution_count": 24,
   "metadata": {},
   "outputs": [
    {
     "data": {
      "text/plain": [
       "AGE     51.614252\n",
       "SEX      1.582375\n",
       "BMI     27.510540\n",
       "BP      97.939578\n",
       "S1     197.208278\n",
       "S2     122.670614\n",
       "S3      52.901595\n",
       "S4       4.374636\n",
       "S5       4.763348\n",
       "S6      93.894652\n",
       "Y      169.838502\n",
       "dtype: float64"
      ]
     },
     "execution_count": 24,
     "metadata": {},
     "output_type": "execute_result"
    }
   ],
   "source": [
    "predictions[0]*sigma + mu"
   ]
  }
 ],
 "metadata": {
  "kernelspec": {
   "display_name": "Python 3 (ipykernel)",
   "language": "python",
   "name": "python3"
  },
  "language_info": {
   "codemirror_mode": {
    "name": "ipython",
    "version": 3
   },
   "file_extension": ".py",
   "mimetype": "text/x-python",
   "name": "python",
   "nbconvert_exporter": "python",
   "pygments_lexer": "ipython3",
   "version": "3.9.12"
  }
 },
 "nbformat": 4,
 "nbformat_minor": 4
}
